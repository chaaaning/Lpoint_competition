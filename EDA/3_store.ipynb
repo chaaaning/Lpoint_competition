{
 "cells": [
  {
   "cell_type": "code",
   "execution_count": 2,
   "metadata": {},
   "outputs": [],
   "source": [
    "import pandas as pd\n",
    "import numpy as np\n",
    "import matplotlib.pyplot as plt\n",
    "import seaborn as sns\n",
    "import os\n",
    "\n",
    "%matplotlib inline\n",
    "plt.rcParams[\"font.family\"] = \"Malgun Gothic\"\n",
    "plt.rcParams[\"font.size\"] = 15\n",
    "plt.rcParams[\"figure.figsize\"] = (16,9)\n",
    "plt.rcParams[\"axes.unicode_minus\"] = False\n",
    "plt.style.use(\"ggplot\")\n",
    "\n",
    "pd.set_option(\"display.max_rows\", 10)\n",
    "pd.set_option(\"display.max_columns\", 10)"
   ]
  },
  {
   "cell_type": "markdown",
   "metadata": {},
   "source": [
    "# 0.Data Load\n",
    "---"
   ]
  },
  {
   "cell_type": "code",
   "execution_count": 3,
   "metadata": {},
   "outputs": [
    {
     "data": {
      "text/html": [
       "<div>\n",
       "<style scoped>\n",
       "    .dataframe tbody tr th:only-of-type {\n",
       "        vertical-align: middle;\n",
       "    }\n",
       "\n",
       "    .dataframe tbody tr th {\n",
       "        vertical-align: top;\n",
       "    }\n",
       "\n",
       "    .dataframe thead th {\n",
       "        text-align: right;\n",
       "    }\n",
       "</style>\n",
       "<table border=\"1\" class=\"dataframe\">\n",
       "  <thead>\n",
       "    <tr style=\"text-align: right;\">\n",
       "      <th></th>\n",
       "      <th>br_c</th>\n",
       "      <th>cop_c</th>\n",
       "      <th>zon_hlv</th>\n",
       "      <th>zon_mcls</th>\n",
       "    </tr>\n",
       "  </thead>\n",
       "  <tbody>\n",
       "    <tr>\n",
       "      <th>0</th>\n",
       "      <td>A010001</td>\n",
       "      <td>A01</td>\n",
       "      <td>Z17</td>\n",
       "      <td>Z17024</td>\n",
       "    </tr>\n",
       "    <tr>\n",
       "      <th>1</th>\n",
       "      <td>A010002</td>\n",
       "      <td>A01</td>\n",
       "      <td>Z17</td>\n",
       "      <td>Z17018</td>\n",
       "    </tr>\n",
       "    <tr>\n",
       "      <th>2</th>\n",
       "      <td>A010003</td>\n",
       "      <td>A01</td>\n",
       "      <td>Z17</td>\n",
       "      <td>Z17011</td>\n",
       "    </tr>\n",
       "    <tr>\n",
       "      <th>3</th>\n",
       "      <td>A010004</td>\n",
       "      <td>A01</td>\n",
       "      <td>Z16</td>\n",
       "      <td>Z16007</td>\n",
       "    </tr>\n",
       "    <tr>\n",
       "      <th>4</th>\n",
       "      <td>A010005</td>\n",
       "      <td>A01</td>\n",
       "      <td>Z17</td>\n",
       "      <td>Z17005</td>\n",
       "    </tr>\n",
       "  </tbody>\n",
       "</table>\n",
       "</div>"
      ],
      "text/plain": [
       "      br_c cop_c zon_hlv zon_mcls\n",
       "0  A010001   A01     Z17   Z17024\n",
       "1  A010002   A01     Z17   Z17018\n",
       "2  A010003   A01     Z17   Z17011\n",
       "3  A010004   A01     Z16   Z16007\n",
       "4  A010005   A01     Z17   Z17005"
      ]
     },
     "execution_count": 3,
     "metadata": {},
     "output_type": "execute_result"
    }
   ],
   "source": [
    "df_store = pd.read_csv(\"../LPOINT_BIG_COMP/LPOINT_BIG_COMP_05_BR.csv\")\n",
    "df_store.head()"
   ]
  },
  {
   "cell_type": "code",
   "execution_count": 4,
   "metadata": {},
   "outputs": [
    {
     "name": "stdout",
     "output_type": "stream",
     "text": [
      "<class 'pandas.core.frame.DataFrame'>\n",
      "RangeIndex: 8808 entries, 0 to 8807\n",
      "Data columns (total 4 columns):\n",
      " #   Column    Non-Null Count  Dtype \n",
      "---  ------    --------------  ----- \n",
      " 0   br_c      8808 non-null   object\n",
      " 1   cop_c     8808 non-null   object\n",
      " 2   zon_hlv   8808 non-null   object\n",
      " 3   zon_mcls  8808 non-null   object\n",
      "dtypes: object(4)\n",
      "memory usage: 275.4+ KB\n"
     ]
    }
   ],
   "source": [
    "df_store.info()"
   ]
  },
  {
   "cell_type": "markdown",
   "metadata": {},
   "source": [
    "# 1.Values\n",
    "---"
   ]
  },
  {
   "cell_type": "code",
   "execution_count": 5,
   "metadata": {},
   "outputs": [
    {
     "name": "stdout",
     "output_type": "stream",
     "text": [
      "br_c: 8808\t['*A010001' '*A010002' '*A010003' '*A010004' '*A010005' '*A010006'\n",
      " '*A010007' '*A010008' '*A010009' '*A010010']\n",
      "\n",
      "cop_c: 11\t['A01' 'A02' 'A03' 'A04' 'A05' 'B01' 'C01' 'C02' 'D01' 'D02' 'E01']\n",
      "\n",
      "zon_hlv: 17\t['Z17' 'Z16' 'Z13' 'Z10' 'Z15' 'Z12' 'Z03' 'Z11' 'Z14' 'Z06' 'Z09' 'Z04'\n",
      " 'Z08' 'Z05' 'Z02' 'Z01' 'Z07']\n",
      "\n",
      "zon_mcls: 257\t['*Z17024' '*Z17018' '*Z17011' '*Z16007' '*Z17005' '*Z13003' '*Z17001'\n",
      " '*Z17020' '*Z10003' '*Z15003']\n",
      "\n",
      "Total DF Length: 8808\n"
     ]
    }
   ],
   "source": [
    "# Number of Unique Values\n",
    "\n",
    "for col in df_store.columns:\n",
    "    unq_arr = df_store[col].unique()\n",
    "    print(f\"{col}: {df_store[col].nunique()}\\t{['*']+unq_arr[:10] if df_store[col].nunique()>20 else unq_arr}\")\n",
    "    print()\n",
    "print(f\"Total DF Length: {len(df_store)}\")"
   ]
  },
  {
   "cell_type": "markdown",
   "metadata": {},
   "source": [
    "- `A01~06` : 유통사\n",
    "- `B01`: 숙박업종\n",
    "- `C01~2`: 엔터테인먼트\n",
    "- `D01~2`: F&B\n",
    "- `E01`: 렌탈업종"
   ]
  },
  {
   "cell_type": "code",
   "execution_count": 6,
   "metadata": {},
   "outputs": [],
   "source": [
    "aff_dict = {'A':'유통사','B':'숙박업종','C':'엔터테인먼트',\n",
    "            'D':'F&B','E':'렌탈업종'}\n",
    "df_store[\"cop_c_k\"]=df_store[\"cop_c\"].apply(lambda x: aff_dict[x[0]])"
   ]
  },
  {
   "cell_type": "code",
   "execution_count": 7,
   "metadata": {},
   "outputs": [
    {
     "data": {
      "text/html": [
       "<div>\n",
       "<style scoped>\n",
       "    .dataframe tbody tr th:only-of-type {\n",
       "        vertical-align: middle;\n",
       "    }\n",
       "\n",
       "    .dataframe tbody tr th {\n",
       "        vertical-align: top;\n",
       "    }\n",
       "\n",
       "    .dataframe thead th {\n",
       "        text-align: right;\n",
       "    }\n",
       "</style>\n",
       "<table border=\"1\" class=\"dataframe\">\n",
       "  <thead>\n",
       "    <tr style=\"text-align: right;\">\n",
       "      <th></th>\n",
       "      <th>br_c</th>\n",
       "      <th>cop_c</th>\n",
       "      <th>zon_hlv</th>\n",
       "      <th>zon_mcls</th>\n",
       "      <th>cop_c_k</th>\n",
       "    </tr>\n",
       "  </thead>\n",
       "  <tbody>\n",
       "    <tr>\n",
       "      <th>0</th>\n",
       "      <td>A010001</td>\n",
       "      <td>A01</td>\n",
       "      <td>Z17</td>\n",
       "      <td>Z17024</td>\n",
       "      <td>유통사</td>\n",
       "    </tr>\n",
       "    <tr>\n",
       "      <th>1</th>\n",
       "      <td>A010002</td>\n",
       "      <td>A01</td>\n",
       "      <td>Z17</td>\n",
       "      <td>Z17018</td>\n",
       "      <td>유통사</td>\n",
       "    </tr>\n",
       "    <tr>\n",
       "      <th>2</th>\n",
       "      <td>A010003</td>\n",
       "      <td>A01</td>\n",
       "      <td>Z17</td>\n",
       "      <td>Z17011</td>\n",
       "      <td>유통사</td>\n",
       "    </tr>\n",
       "    <tr>\n",
       "      <th>3</th>\n",
       "      <td>A010004</td>\n",
       "      <td>A01</td>\n",
       "      <td>Z16</td>\n",
       "      <td>Z16007</td>\n",
       "      <td>유통사</td>\n",
       "    </tr>\n",
       "    <tr>\n",
       "      <th>4</th>\n",
       "      <td>A010005</td>\n",
       "      <td>A01</td>\n",
       "      <td>Z17</td>\n",
       "      <td>Z17005</td>\n",
       "      <td>유통사</td>\n",
       "    </tr>\n",
       "  </tbody>\n",
       "</table>\n",
       "</div>"
      ],
      "text/plain": [
       "      br_c cop_c zon_hlv zon_mcls cop_c_k\n",
       "0  A010001   A01     Z17   Z17024     유통사\n",
       "1  A010002   A01     Z17   Z17018     유통사\n",
       "2  A010003   A01     Z17   Z17011     유통사\n",
       "3  A010004   A01     Z16   Z16007     유통사\n",
       "4  A010005   A01     Z17   Z17005     유통사"
      ]
     },
     "execution_count": 7,
     "metadata": {},
     "output_type": "execute_result"
    }
   ],
   "source": [
    "df_store.head()"
   ]
  },
  {
   "cell_type": "markdown",
   "metadata": {},
   "source": [
    "# 2.Visualization\n",
    "---"
   ]
  },
  {
   "cell_type": "code",
   "execution_count": 8,
   "metadata": {},
   "outputs": [
    {
     "data": {
      "image/png": "[encoded data removed]",
      "text/plain": [
       "<Figure size 1152x648 with 1 Axes>"
      ]
     },
     "metadata": {},
     "output_type": "display_data"
    }
   ],
   "source": [
    "sns.histplot(df_store[\"cop_c\"])\n",
    "plt.show()"
   ]
  },
  {
   "cell_type": "code",
   "execution_count": 9,
   "metadata": {},
   "outputs": [
    {
     "data": {
      "image/png": "[encoded data removed]",
      "text/plain": [
       "<Figure size 1152x648 with 1 Axes>"
      ]
     },
     "metadata": {},
     "output_type": "display_data"
    }
   ],
   "source": [
    "sns.histplot(df_store[\"cop_c_k\"])\n",
    "plt.show()"
   ]
  },
  {
   "cell_type": "code",
   "execution_count": 32,
   "metadata": {},
   "outputs": [
    {
     "data": {
      "image/png": "[encoded data removed]",
      "text/plain": [
       "<Figure size 1152x648 with 1 Axes>"
      ]
     },
     "metadata": {},
     "output_type": "display_data"
    }
   ],
   "source": [
    "df_zn = df_store.groupby(by=[\"zon_hlv\",\"zon_mcls\"], as_index=False).count()[[\"zon_hlv\",\"zon_mcls\"]]\n",
    "df_zn_grp = df_zn.groupby(by=[\"zon_hlv\"],as_index=False).count().sort_values(by=\"zon_mcls\", ascending=False)\n",
    "sns.barplot(x=df_zn_grp[\"zon_hlv\"], y=df_zn_grp[\"zon_mcls\"])\n",
    "x_loc = 0.03\n",
    "for val in df_zn_grp[\"zon_mcls\"]:\n",
    "    plt.text(x=x_loc, y=val, s=f\"{val}\", size=15)\n",
    "    x_loc+=1\n",
    "plt.title(\"지역 대분류에 속하는 지역 중분류 수\")\n",
    "plt.show()"
   ]
  }
 ],
 "metadata": {
  "kernelspec": {
   "display_name": "Python 3.8.8 ('main')",
   "language": "python",
   "name": "python3"
  },
  "language_info": {
   "codemirror_mode": {
    "name": "ipython",
    "version": 3
   },
   "file_extension": ".py",
   "mimetype": "text/x-python",
   "name": "python",
   "nbconvert_exporter": "python",
   "pygments_lexer": "ipython3",
   "version": "3.8.8"
  },
  "orig_nbformat": 4,
  "vscode": {
   "interpreter": {
    "hash": "5418eef80854e52bdd31b62ac8e168a96471c21ff09caab6ca68827813545a18"
   }
  }
 },
 "nbformat": 4,
 "nbformat_minor": 2
}
