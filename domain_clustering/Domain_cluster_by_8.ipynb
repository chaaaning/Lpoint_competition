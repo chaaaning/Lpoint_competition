{
 "cells": [
  {
   "cell_type": "markdown",
   "metadata": {},
   "source": [
    "## library load"
   ]
  },
  {
   "cell_type": "code",
   "execution_count": 1,
   "metadata": {},
   "outputs": [],
   "source": [
    "import pandas as pd\n",
    "import numpy as np\n",
    "import matplotlib.pyplot as plt\n",
    "import seaborn as sns\n",
    "import os\n",
    "from sklearn.preprocessing import MinMaxScaler\n",
    "from scipy.spatial.distance import cdist\n",
    "from sklearn.cluster import DBSCAN\n",
    "\n",
    "%matplotlib inline\n",
    "plt.rcParams[\"font.family\"] = \"Malgun Gothic\"\n",
    "plt.rcParams[\"font.size\"] = 15\n",
    "plt.rcParams[\"figure.figsize\"] = (16,9)\n",
    "plt.rcParams[\"axes.unicode_minus\"] = False\n",
    "plt.style.use(\"ggplot\")\n",
    "\n",
    "pd.set_option(\"display.max_rows\", 10)\n",
    "pd.set_option(\"display.max_columns\", 10)"
   ]
  },
  {
   "cell_type": "markdown",
   "metadata": {},
   "source": [
    "## data load"
   ]
  },
  {
   "cell_type": "code",
   "execution_count": 2,
   "metadata": {},
   "outputs": [
    {
     "name": "stderr",
     "output_type": "stream",
     "text": [
      "c:\\Users\\Leechoongsung\\anaconda3\\lib\\site-packages\\IPython\\core\\interactiveshell.py:3444: DtypeWarning: Columns (4) have mixed types.Specify dtype option on import or set low_memory=False.\n",
      "  exec(code_obj, self.user_global_ns, self.user_ns)\n"
     ]
    }
   ],
   "source": [
    "df_cust = pd.read_csv(\"../../LPOINT_BIG_COMP/LPOINT_BIG_COMP_01_DEMO.csv\")\n",
    "df_pdde = pd.read_csv(\"../../LPOINT_BIG_COMP/LPOINT_BIG_COMP_02_PDDE.csv\")\n",
    "df_cop_u = pd.read_csv(\"../../LPOINT_BIG_COMP/LPOINT_BIG_COMP_03_COP_U.csv\")\n",
    "df_pd_clac = pd.read_csv(\"../../LPOINT_BIG_COMP/LPOINT_BIG_COMP_04_PD_CLAC.csv\")"
   ]
  },
  {
   "cell_type": "markdown",
   "metadata": {},
   "source": [
    "## Function"
   ]
  },
  {
   "cell_type": "code",
   "execution_count": 38,
   "metadata": {},
   "outputs": [],
   "source": [
    "#DBSCAN을 통해 이상치 제거\n",
    "def delete_outlier_DBSCAN(df_pdde, df_pd_clac):\n",
    "    df_pdde_pd_clac = df_pdde.merge(df_pd_clac, how='left', on='pd_c')\n",
    "    df_pt = pd.pivot_table(data=df_pdde_pd_clac,\n",
    "               values='buy_am',\n",
    "               index='cust',\n",
    "               columns='clac_hlv_nm',\n",
    "               aggfunc='sum',\n",
    "               fill_value=0)\n",
    "\n",
    "    df_pt.reset_index(inplace=True)\n",
    "\n",
    "    scaler = MinMaxScaler()\n",
    "    scaler.fit(df_pt.iloc[:,1:])\n",
    "    df_spt = pd.DataFrame(scaler.transform(df_pt.iloc[:,1:]), index=df_pt[\"cust\"], columns=df_pt.columns[1:])\n",
    "    df_spt_2 =  df_spt.reset_index()\n",
    "\n",
    "    dbscan = DBSCAN(eps = 0.1, min_samples = 30, metric = \"euclidean\")\n",
    "    dbscan_labels = dbscan.fit_predict(df_spt_2.iloc[:, 1:])\n",
    "    df_spt_2['outlier'] = dbscan_labels\n",
    "\n",
    "    df_spt_not_outlier_cust = df_spt_2[df_spt_2['outlier']==0]['cust']\n",
    "    \n",
    "    return df_spt_not_outlier_cust\n",
    "\n",
    "\n",
    "\n",
    "# 누락 데이터 삭제\n",
    "def check_on_off(df_main, df, key=\"cust\", col_nm=\"chnl_dv\"):\n",
    "    df_new = pd.DataFrame(df.groupby(key)[col_nm].apply(lambda x:list(set(x))))\n",
    "    return df_main.merge(df_new, how=\"left\", on=key).dropna(subset=[\"chnl_dv\"])\n",
    "\n",
    "\n",
    "\n",
    "# on/off 분류\n",
    "def split_on_off(df, col_nm=\"chnl_dv\"):\n",
    "    df[col_nm] = df[col_nm].apply(lambda x: x[0] if len(x)==1 else 0)\n",
    "    df_off = df.loc[df[col_nm]==1] ##off\n",
    "    df_on = df.loc[df[col_nm]==2] ##on\n",
    "    df_onf = df.loc[df[col_nm]==0] ##onf\n",
    "\n",
    "    df_not_off = pd.concat([df_on, df_onf], axis=0, ignore_index=True)\n",
    "\n",
    "\n",
    "    return df_off, df_not_off #off, not_off\n",
    "\n",
    "def classification_buy_am(x, std_points):\n",
    "    if x <= std_points[0]:\n",
    "        return \"D\"\n",
    "    elif std_points[0] < x <= std_points[1]:\n",
    "        return \"C\"\n",
    "    elif std_points[1] < x <= std_points[2]:\n",
    "        return \"B\"\n",
    "    else:\n",
    "        return \"A\"\n",
    "\n",
    "def split_buy_amount_by_4(df_main, df_sub, key='cust', col_nm='buy_am'):\n",
    "    df_new = df_sub.groupby([key], as_index=False)[col_nm].sum()\n",
    "    df_new2 = df_main.merge(df_new, on='cust', how='left')\n",
    "    df_new2[\"am_class\"] = df_new2[col_nm].apply(classification_buy_am, std_points=np.quantile(df_new2[col_nm], [.25, .5, .75]))\n",
    "    \n",
    "\n",
    "    df_A = df_new2[df_new2['am_class']=='A']\n",
    "    df_B = df_new2[df_new2['am_class']=='B']\n",
    "    df_C = df_new2[df_new2['am_class']=='C']\n",
    "    df_D = df_new2[df_new2['am_class']=='D']\n",
    "    \n",
    "    return df_A, df_B, df_C, df_D\n",
    "    \n",
    "\n",
    "def domain_clustering_ver2(df_main, df_sub, df_sub2):\n",
    "\n",
    "    not_outlier_cust = delete_outlier_DBSCAN(df_sub, df_sub2)\n",
    "\n",
    "    df_main = df_main.loc[df_main['cust'].isin(not_outlier_cust.values.tolist())]\n",
    "\n",
    "    df = check_on_off(df_main, df_sub)\n",
    "\n",
    "    df_off, df_not_off= split_on_off(df)\n",
    "\n",
    "    \n",
    "    df_off_A, df_off_B, df_off_C, df_off_D  = split_buy_amount_by_4(df_off, df_sub)\n",
    "    df_not_off_A, df_not_off_B, df_not_off_C, df_not_off_D  = split_buy_amount_by_4(df_not_off, df_sub)\n",
    "\n",
    "    df_off_A['cluster'] = 0\n",
    "    df_off_B['cluster'] = 1\n",
    "    df_off_C['cluster'] = 2\n",
    "    df_off_D['cluster'] = 3\n",
    "    df_not_off_A['cluster'] = 4\n",
    "    df_not_off_B['cluster'] = 5\n",
    "    df_not_off_C['cluster'] = 6\n",
    "    df_not_off_D['cluster'] = 7\n",
    "\n",
    "    df_off_A_label = df_off_A[['cust', 'cluster']]\n",
    "    df_off_B_label = df_off_B[['cust', 'cluster']]\n",
    "    df_off_C_label = df_off_C[['cust', 'cluster']]\n",
    "    df_off_D_label = df_off_D[['cust', 'cluster']]\n",
    "    df_not_off_A_label = df_not_off_A[['cust', 'cluster']]\n",
    "    df_not_off_B_label = df_not_off_B[['cust', 'cluster']]\n",
    "    df_not_off_C_label = df_not_off_C[['cust', 'cluster']]\n",
    "    df_not_off_D_label = df_not_off_D[['cust', 'cluster']]\n",
    "    \n",
    "\n",
    "        \n",
    "    return df_off_A_label, df_off_B_label, df_off_C_label, df_off_D_label, df_not_off_A_label, df_not_off_B_label, df_not_off_C_label, df_not_off_D_label"
   ]
  },
  {
   "cell_type": "markdown",
   "metadata": {},
   "source": [
    "## Result of 8 clusters"
   ]
  },
  {
   "cell_type": "code",
   "execution_count": 40,
   "metadata": {},
   "outputs": [],
   "source": [
    "df_off_A_label, df_off_B_label, df_off_C_label, df_off_D_label, df_not_off_A_label, df_not_off_B_label, df_not_off_C_label, df_not_off_D_label = domain_clustering_ver2(df_cust, df_pdde, df_pd_clac) "
   ]
  },
  {
   "cell_type": "markdown",
   "metadata": {},
   "source": [
    "result example"
   ]
  },
  {
   "cell_type": "code",
   "execution_count": 58,
   "metadata": {},
   "outputs": [
    {
     "data": {
      "text/html": [
       "<div>\n",
       "<style scoped>\n",
       "    .dataframe tbody tr th:only-of-type {\n",
       "        vertical-align: middle;\n",
       "    }\n",
       "\n",
       "    .dataframe tbody tr th {\n",
       "        vertical-align: top;\n",
       "    }\n",
       "\n",
       "    .dataframe thead th {\n",
       "        text-align: right;\n",
       "    }\n",
       "</style>\n",
       "<table border=\"1\" class=\"dataframe\">\n",
       "  <thead>\n",
       "    <tr style=\"text-align: right;\">\n",
       "      <th></th>\n",
       "      <th>cust</th>\n",
       "      <th>cluster</th>\n",
       "    </tr>\n",
       "  </thead>\n",
       "  <tbody>\n",
       "    <tr>\n",
       "      <th>3</th>\n",
       "      <td>M000261625</td>\n",
       "      <td>0</td>\n",
       "    </tr>\n",
       "    <tr>\n",
       "      <th>4</th>\n",
       "      <td>M000350564</td>\n",
       "      <td>0</td>\n",
       "    </tr>\n",
       "    <tr>\n",
       "      <th>7</th>\n",
       "      <td>M000508243</td>\n",
       "      <td>0</td>\n",
       "    </tr>\n",
       "    <tr>\n",
       "      <th>24</th>\n",
       "      <td>M001694463</td>\n",
       "      <td>0</td>\n",
       "    </tr>\n",
       "    <tr>\n",
       "      <th>25</th>\n",
       "      <td>M001697472</td>\n",
       "      <td>0</td>\n",
       "    </tr>\n",
       "    <tr>\n",
       "      <th>...</th>\n",
       "      <td>...</td>\n",
       "      <td>...</td>\n",
       "    </tr>\n",
       "    <tr>\n",
       "      <th>16498</th>\n",
       "      <td>M998346579</td>\n",
       "      <td>0</td>\n",
       "    </tr>\n",
       "    <tr>\n",
       "      <th>16508</th>\n",
       "      <td>M999213998</td>\n",
       "      <td>0</td>\n",
       "    </tr>\n",
       "    <tr>\n",
       "      <th>16509</th>\n",
       "      <td>M999227380</td>\n",
       "      <td>0</td>\n",
       "    </tr>\n",
       "    <tr>\n",
       "      <th>16511</th>\n",
       "      <td>M999340261</td>\n",
       "      <td>0</td>\n",
       "    </tr>\n",
       "    <tr>\n",
       "      <th>16515</th>\n",
       "      <td>M999673157</td>\n",
       "      <td>0</td>\n",
       "    </tr>\n",
       "  </tbody>\n",
       "</table>\n",
       "<p>4129 rows × 2 columns</p>\n",
       "</div>"
      ],
      "text/plain": [
       "             cust  cluster\n",
       "3      M000261625        0\n",
       "4      M000350564        0\n",
       "7      M000508243        0\n",
       "24     M001694463        0\n",
       "25     M001697472        0\n",
       "...           ...      ...\n",
       "16498  M998346579        0\n",
       "16508  M999213998        0\n",
       "16509  M999227380        0\n",
       "16511  M999340261        0\n",
       "16515  M999673157        0\n",
       "\n",
       "[4129 rows x 2 columns]"
      ]
     },
     "execution_count": 58,
     "metadata": {},
     "output_type": "execute_result"
    }
   ],
   "source": [
    "df_off_A_label"
   ]
  },
  {
   "cell_type": "markdown",
   "metadata": {},
   "source": [
    "1. 0번 클러스터 OFF A (4129명)\n",
    "2. 1번 클러스터 OFF B (4129명)\n",
    "3. 2번 클러스터 OFF C (4129명)\n",
    "4. 3번 클러스터 OFF D (4130명)\n",
    "5. 4번 클러스터 NOT_OFF A (2132명)\n",
    "6. 5번 클러스터 NOT_OFF B (2131명)\n",
    "7. 6번 클러스터 NOT_OFF C (2131명)\n",
    "8. 7번 클러스터 NOT_OFF D (2132명)\n",
    "\n",
    "A > B > C > D (buy amount 순)"
   ]
  }
 ],
 "metadata": {
  "kernelspec": {
   "display_name": "Python 3.9.7 ('base')",
   "language": "python",
   "name": "python3"
  },
  "language_info": {
   "codemirror_mode": {
    "name": "ipython",
    "version": 3
   },
   "file_extension": ".py",
   "mimetype": "text/x-python",
   "name": "python",
   "nbconvert_exporter": "python",
   "pygments_lexer": "ipython3",
   "version": "3.9.7"
  },
  "orig_nbformat": 4,
  "vscode": {
   "interpreter": {
    "hash": "42a636b4ae40231869e16fcf30ae97d54d85a7f895f1f4f5db0d943359100379"
   }
  }
 },
 "nbformat": 4,
 "nbformat_minor": 2
}
