{
 "cells": [
  {
   "cell_type": "code",
   "execution_count": 13,
   "id": "d5224fd4",
   "metadata": {
    "ExecuteTime": {
     "end_time": "2022-08-02T11:28:25.481340Z",
     "start_time": "2022-08-02T11:28:25.466337Z"
    }
   },
   "outputs": [
    {
     "name": "stderr",
     "output_type": "stream",
     "text": [
      "C:\\Users\\yunjc\\AppData\\Local\\Temp\\ipykernel_14056\\3274554136.py:1: DeprecationWarning: Importing display from IPython.core.display is deprecated since IPython 7.14, please import from IPython display\n",
      "  from IPython.core.display import display, HTML\n"
     ]
    },
    {
     "data": {
      "text/html": [
       "<style>.container { width:95% !important; }</style>"
      ],
      "text/plain": [
       "<IPython.core.display.HTML object>"
      ]
     },
     "metadata": {},
     "output_type": "display_data"
    },
    {
     "data": {
      "text/html": [
       "<style>.output_result { max-width:95% !important; }</style>"
      ],
      "text/plain": [
       "<IPython.core.display.HTML object>"
      ]
     },
     "metadata": {},
     "output_type": "display_data"
    },
    {
     "data": {
      "text/html": [
       "<style>.prompt { min-width: 1ex !important; }</style>"
      ],
      "text/plain": [
       "<IPython.core.display.HTML object>"
      ]
     },
     "metadata": {},
     "output_type": "display_data"
    }
   ],
   "source": [
    "from IPython.core.display import display, HTML\n",
    "display(HTML(\"<style>.container { width:95% !important; }</style>\"))\n",
    "display(HTML(\"<style>.output_result { max-width:95% !important; }</style>\"))\n",
    " \n",
    "#여백 줄이기\n",
    "display(HTML(\"<style>.prompt { min-width: 1ex !important; }</style>\"))\n",
    " \n",
    "#In 부분 없애기\n",
    "#display(HTML(\"<style>.prompt bdi { display:none !important; }</style>\"))\n",
    " \n",
    "#아예 다 없애기\n",
    "#display(HTML(\"<style>.prompt { display:none !important; }</style>\"))"
   ]
  },
  {
   "cell_type": "code",
   "execution_count": 14,
   "id": "3ca6d0ff",
   "metadata": {
    "ExecuteTime": {
     "end_time": "2022-08-02T11:28:26.545422Z",
     "start_time": "2022-08-02T11:28:25.482341Z"
    }
   },
   "outputs": [],
   "source": [
    "import pandas as pd\n",
    "import numpy as np\n",
    "import matplotlib.pyplot as plt\n",
    "import seaborn as sns\n",
    "import os\n",
    "\n",
    "%matplotlib inline\n",
    "plt.rcParams[\"font.family\"] = \"Malgun Gothic\"\n",
    "plt.rcParams[\"font.size\"] = 15\n",
    "plt.rcParams[\"figure.figsize\"] = (16,9)\n",
    "plt.rcParams[\"axes.unicode_minus\"] = False\n",
    "plt.style.use(\"ggplot\")\n",
    "\n",
    "pd.set_option(\"display.max_rows\", 10)\n",
    "pd.set_option(\"display.max_columns\", 10)"
   ]
  },
  {
   "cell_type": "markdown",
   "id": "70a38b79",
   "metadata": {},
   "source": [
    "# Data Load\n",
    "---"
   ]
  },
  {
   "cell_type": "code",
   "execution_count": 15,
   "id": "3da2f351",
   "metadata": {},
   "outputs": [
    {
     "data": {
      "text/plain": [
       "'c:\\\\Users\\\\yunjc\\\\_python_jupyter\\\\Project_DA\\\\Lpoint_competition\\\\domain_clustering'"
      ]
     },
     "execution_count": 15,
     "metadata": {},
     "output_type": "execute_result"
    }
   ],
   "source": [
    "import os\n",
    "os.getcwd()"
   ]
  },
  {
   "cell_type": "code",
   "execution_count": 9,
   "id": "db3ba014",
   "metadata": {
    "ExecuteTime": {
     "end_time": "2022-08-02T11:29:06.827828Z",
     "start_time": "2022-08-02T11:29:03.907733Z"
    }
   },
   "outputs": [
    {
     "name": "stderr",
     "output_type": "stream",
     "text": [
      "C:\\Users\\yunjc\\AppData\\Local\\Temp\\ipykernel_14056\\1956657325.py:5: DtypeWarning: Columns (4) have mixed types. Specify dtype option on import or set low_memory=False.\n",
      "  df_pdde = pd.read_csv(\"../LPOINT_BIG_COMP/LPOINT_BIG_COMP_02_PDDE.csv\")\n"
     ]
    }
   ],
   "source": [
    "# df_cust = pd.read_csv(\"../../LPOINT_BIG_COMP/LPOINT_BIG_COMP_01_DEMO.csv\")\n",
    "# df_pdde = pd.read_csv(\"../../LPOINT_BIG_COMP/LPOINT_BIG_COMP_02_PDDE.csv\")\n",
    "\n",
    "df_cust = pd.read_csv(\"../LPOINT_BIG_COMP/LPOINT_BIG_COMP_01_DEMO.csv\")\n",
    "df_pdde = pd.read_csv(\"../LPOINT_BIG_COMP/LPOINT_BIG_COMP_02_PDDE.csv\")"
   ]
  },
  {
   "cell_type": "markdown",
   "id": "a1dcb063",
   "metadata": {},
   "source": [
    "# 함수화\n",
    "---"
   ]
  },
  {
   "cell_type": "code",
   "execution_count": 10,
   "id": "4034bd66",
   "metadata": {
    "ExecuteTime": {
     "end_time": "2022-08-02T11:29:06.921510Z",
     "start_time": "2022-08-02T11:29:06.906861Z"
    }
   },
   "outputs": [],
   "source": [
    "# 누락 데이터 삭제\n",
    "def check_on_off(df_main, df, key=\"cust\", col_nm=\"chnl_dv\"):\n",
    "    df_new = pd.DataFrame(df.groupby(key)[col_nm].apply(lambda x:list(set(x))))\n",
    "    return df_main.merge(df_new, how=\"left\", on=key).dropna(subset=[\"chnl_dv\"])\n",
    "\n",
    "# on/off 분류\n",
    "def split_on_off(df, col_nm=\"chnl_dv\"):\n",
    "    df[col_nm] = df[col_nm].apply(lambda x: x[0] if len(x)==1 else 0)\n",
    "    df_res1 = df.loc[df[col_nm]==1] ##off\n",
    "    df_res2 = df.loc[df[col_nm]==2] ##on\n",
    "    df_res3 = df.loc[df[col_nm]==0] ##onf\n",
    "    return df_res1, df_res2, df_res3 #off, on, onf\n",
    "\n",
    "# loyal/unloyal 분류\n",
    "def split_loyal(df_main, df_sub, col_nm ='rct_no', key = 'cust'):\n",
    "    df_rct_no = pd.DataFrame(df_sub.groupby([key])[col_nm].apply(lambda x: len(list(set(x))))).reset_index()\n",
    "    df_m2 = df_main.merge(df_rct_no, how=\"left\", on=key)\n",
    "    df_loyal = df_m2.loc[df_m2[col_nm]>3]\n",
    "    df_unloyal = df_m2.loc[df_m2[col_nm]<=3]\n",
    "    return df_loyal, df_unloyal\n",
    "\n",
    "# vip/unvip 분류\n",
    "def split_vip(df_main, df_sub, col_nm='buy_am', key='cust'):\n",
    "    df_buy_am = pd.DataFrame(df_sub.groupby([key],as_index=False)[col_nm].sum())\n",
    "    df_m2 = df_main.merge(df_buy_am, how='left', on=key)\n",
    "    df_vip = df_m2.loc[df_m2[col_nm]>200000]\n",
    "    df_unvip = df_m2.loc[df_m2[col_nm]<=200000]\n",
    "    return df_vip, df_unvip\n",
    "\n",
    "##unloyal Nan 문제 해결\n",
    "def unloyal_buy_am_solve(df_main, df_sub, col_nm='buy_am', key='cust'):\n",
    "    df_buy_am = pd.DataFrame(df_sub.groupby([key],as_index=False)[col_nm].sum())\n",
    "    df_m2 = df_main.merge(df_buy_am, how='left', on=key)\n",
    "    return df_m2\n",
    "\n",
    "\n",
    "def domain_clustering(df_main, df_sub):\n",
    "    df = check_on_off(df_main, df_sub)\n",
    "\n",
    "    df_off, df_on, df_onf = split_on_off(df)\n",
    "\n",
    "    df_01, df_2 = split_loyal(df_on, df_sub)\n",
    "    df_34, df_5 = split_loyal(df_onf, df_sub)\n",
    "    df_67, df_8 = split_loyal(df_off, df_sub)\n",
    "\n",
    "    df_0, df_1 = split_vip(df_01, df_sub)\n",
    "    df_3, df_4 = split_vip(df_34, df_sub)\n",
    "    df_6, df_7 = split_vip(df_67, df_sub)\n",
    "    \n",
    "    df_2 = unloyal_buy_am_solve(df_2, df_sub)\n",
    "    df_5 = unloyal_buy_am_solve(df_5, df_sub)\n",
    "    df_8 = unloyal_buy_am_solve(df_8, df_sub)\n",
    "    \n",
    "    df_init = pd.DataFrame()\n",
    "    for i, df_temp in enumerate([df_0, df_1, df_2, df_3, df_4, df_5, df_6, df_7, df_8]):\n",
    "        df_temp[\"cluster\"] = i\n",
    "        df_init = pd.concat([df_init, df_temp], axis=0, ignore_index=True)\n",
    "        \n",
    "    return df_init\n"
   ]
  },
  {
   "cell_type": "code",
   "execution_count": 11,
   "id": "b2431538",
   "metadata": {
    "ExecuteTime": {
     "end_time": "2022-08-02T11:29:12.920069Z",
     "start_time": "2022-08-02T11:29:06.998881Z"
    }
   },
   "outputs": [],
   "source": [
    "result = domain_clustering(df_cust, df_pdde)"
   ]
  },
  {
   "cell_type": "code",
   "execution_count": 12,
   "id": "48601efb",
   "metadata": {
    "ExecuteTime": {
     "end_time": "2022-08-02T11:29:13.014359Z",
     "start_time": "2022-08-02T11:29:13.001030Z"
    }
   },
   "outputs": [
    {
     "data": {
      "text/html": [
       "<div>\n",
       "<style scoped>\n",
       "    .dataframe tbody tr th:only-of-type {\n",
       "        vertical-align: middle;\n",
       "    }\n",
       "\n",
       "    .dataframe tbody tr th {\n",
       "        vertical-align: top;\n",
       "    }\n",
       "\n",
       "    .dataframe thead th {\n",
       "        text-align: right;\n",
       "    }\n",
       "</style>\n",
       "<table border=\"1\" class=\"dataframe\">\n",
       "  <thead>\n",
       "    <tr style=\"text-align: right;\">\n",
       "      <th></th>\n",
       "      <th>cust</th>\n",
       "      <th>ma_fem_dv</th>\n",
       "      <th>ages</th>\n",
       "      <th>zon_hlv</th>\n",
       "      <th>chnl_dv</th>\n",
       "      <th>rct_no</th>\n",
       "      <th>buy_am</th>\n",
       "      <th>cluster</th>\n",
       "    </tr>\n",
       "  </thead>\n",
       "  <tbody>\n",
       "    <tr>\n",
       "      <th>0</th>\n",
       "      <td>M001248380</td>\n",
       "      <td>여성</td>\n",
       "      <td>30대</td>\n",
       "      <td>Z10</td>\n",
       "      <td>2</td>\n",
       "      <td>38</td>\n",
       "      <td>992100.0</td>\n",
       "      <td>0</td>\n",
       "    </tr>\n",
       "    <tr>\n",
       "      <th>1</th>\n",
       "      <td>M006962764</td>\n",
       "      <td>남성</td>\n",
       "      <td>30대</td>\n",
       "      <td>Z17</td>\n",
       "      <td>2</td>\n",
       "      <td>35</td>\n",
       "      <td>1085730.0</td>\n",
       "      <td>0</td>\n",
       "    </tr>\n",
       "    <tr>\n",
       "      <th>2</th>\n",
       "      <td>M008864908</td>\n",
       "      <td>남성</td>\n",
       "      <td>30대</td>\n",
       "      <td>Z04</td>\n",
       "      <td>2</td>\n",
       "      <td>22</td>\n",
       "      <td>968700.0</td>\n",
       "      <td>0</td>\n",
       "    </tr>\n",
       "    <tr>\n",
       "      <th>3</th>\n",
       "      <td>M014792007</td>\n",
       "      <td>여성</td>\n",
       "      <td>30대</td>\n",
       "      <td>Z13</td>\n",
       "      <td>2</td>\n",
       "      <td>4</td>\n",
       "      <td>735200.0</td>\n",
       "      <td>0</td>\n",
       "    </tr>\n",
       "    <tr>\n",
       "      <th>4</th>\n",
       "      <td>M021341630</td>\n",
       "      <td>여성</td>\n",
       "      <td>40대</td>\n",
       "      <td>Z07</td>\n",
       "      <td>2</td>\n",
       "      <td>23</td>\n",
       "      <td>2718870.0</td>\n",
       "      <td>0</td>\n",
       "    </tr>\n",
       "    <tr>\n",
       "      <th>...</th>\n",
       "      <td>...</td>\n",
       "      <td>...</td>\n",
       "      <td>...</td>\n",
       "      <td>...</td>\n",
       "      <td>...</td>\n",
       "      <td>...</td>\n",
       "      <td>...</td>\n",
       "      <td>...</td>\n",
       "    </tr>\n",
       "    <tr>\n",
       "      <th>26912</th>\n",
       "      <td>M996092967</td>\n",
       "      <td>여성</td>\n",
       "      <td>60대</td>\n",
       "      <td>Z16</td>\n",
       "      <td>1</td>\n",
       "      <td>3</td>\n",
       "      <td>349000.0</td>\n",
       "      <td>8</td>\n",
       "    </tr>\n",
       "    <tr>\n",
       "      <th>26913</th>\n",
       "      <td>M996679486</td>\n",
       "      <td>여성</td>\n",
       "      <td>40대</td>\n",
       "      <td>Z16</td>\n",
       "      <td>1</td>\n",
       "      <td>2</td>\n",
       "      <td>14180.0</td>\n",
       "      <td>8</td>\n",
       "    </tr>\n",
       "    <tr>\n",
       "      <th>26914</th>\n",
       "      <td>M997482914</td>\n",
       "      <td>여성</td>\n",
       "      <td>40대</td>\n",
       "      <td>Z03</td>\n",
       "      <td>1</td>\n",
       "      <td>2</td>\n",
       "      <td>64000.0</td>\n",
       "      <td>8</td>\n",
       "    </tr>\n",
       "    <tr>\n",
       "      <th>26915</th>\n",
       "      <td>M999340261</td>\n",
       "      <td>남성</td>\n",
       "      <td>50대</td>\n",
       "      <td>Z11</td>\n",
       "      <td>1</td>\n",
       "      <td>3</td>\n",
       "      <td>3468000.0</td>\n",
       "      <td>8</td>\n",
       "    </tr>\n",
       "    <tr>\n",
       "      <th>26916</th>\n",
       "      <td>M999492154</td>\n",
       "      <td>여성</td>\n",
       "      <td>20대</td>\n",
       "      <td>Z10</td>\n",
       "      <td>1</td>\n",
       "      <td>1</td>\n",
       "      <td>74800.0</td>\n",
       "      <td>8</td>\n",
       "    </tr>\n",
       "  </tbody>\n",
       "</table>\n",
       "<p>26917 rows × 8 columns</p>\n",
       "</div>"
      ],
      "text/plain": [
       "             cust ma_fem_dv ages zon_hlv  chnl_dv  rct_no     buy_am  cluster\n",
       "0      M001248380        여성  30대     Z10        2      38   992100.0        0\n",
       "1      M006962764        남성  30대     Z17        2      35  1085730.0        0\n",
       "2      M008864908        남성  30대     Z04        2      22   968700.0        0\n",
       "3      M014792007        여성  30대     Z13        2       4   735200.0        0\n",
       "4      M021341630        여성  40대     Z07        2      23  2718870.0        0\n",
       "...           ...       ...  ...     ...      ...     ...        ...      ...\n",
       "26912  M996092967        여성  60대     Z16        1       3   349000.0        8\n",
       "26913  M996679486        여성  40대     Z16        1       2    14180.0        8\n",
       "26914  M997482914        여성  40대     Z03        1       2    64000.0        8\n",
       "26915  M999340261        남성  50대     Z11        1       3  3468000.0        8\n",
       "26916  M999492154        여성  20대     Z10        1       1    74800.0        8\n",
       "\n",
       "[26917 rows x 8 columns]"
      ]
     },
     "execution_count": 12,
     "metadata": {},
     "output_type": "execute_result"
    }
   ],
   "source": [
    "result"
   ]
  },
  {
   "cell_type": "code",
   "execution_count": 16,
   "id": "f701c7bb",
   "metadata": {
    "ExecuteTime": {
     "end_time": "2022-08-02T11:29:13.123628Z",
     "start_time": "2022-08-02T11:29:13.093377Z"
    }
   },
   "outputs": [],
   "source": [
    "result[['cust', 'cluster']].to_csv('domain_cluster_result.csv', index=False)"
   ]
  },
  {
   "cell_type": "code",
   "execution_count": 17,
   "id": "8f782e25",
   "metadata": {
    "ExecuteTime": {
     "end_time": "2022-08-02T11:29:13.734402Z",
     "start_time": "2022-08-02T11:29:13.726179Z"
    }
   },
   "outputs": [
    {
     "data": {
      "text/html": [
       "<div>\n",
       "<style scoped>\n",
       "    .dataframe tbody tr th:only-of-type {\n",
       "        vertical-align: middle;\n",
       "    }\n",
       "\n",
       "    .dataframe tbody tr th {\n",
       "        vertical-align: top;\n",
       "    }\n",
       "\n",
       "    .dataframe thead th {\n",
       "        text-align: right;\n",
       "    }\n",
       "</style>\n",
       "<table border=\"1\" class=\"dataframe\">\n",
       "  <thead>\n",
       "    <tr style=\"text-align: right;\">\n",
       "      <th></th>\n",
       "      <th>cust</th>\n",
       "      <th>cluster</th>\n",
       "    </tr>\n",
       "  </thead>\n",
       "  <tbody>\n",
       "    <tr>\n",
       "      <th>0</th>\n",
       "      <td>M001248380</td>\n",
       "      <td>0</td>\n",
       "    </tr>\n",
       "    <tr>\n",
       "      <th>1</th>\n",
       "      <td>M006962764</td>\n",
       "      <td>0</td>\n",
       "    </tr>\n",
       "    <tr>\n",
       "      <th>2</th>\n",
       "      <td>M008864908</td>\n",
       "      <td>0</td>\n",
       "    </tr>\n",
       "    <tr>\n",
       "      <th>3</th>\n",
       "      <td>M014792007</td>\n",
       "      <td>0</td>\n",
       "    </tr>\n",
       "    <tr>\n",
       "      <th>4</th>\n",
       "      <td>M021341630</td>\n",
       "      <td>0</td>\n",
       "    </tr>\n",
       "    <tr>\n",
       "      <th>...</th>\n",
       "      <td>...</td>\n",
       "      <td>...</td>\n",
       "    </tr>\n",
       "    <tr>\n",
       "      <th>26912</th>\n",
       "      <td>M996092967</td>\n",
       "      <td>8</td>\n",
       "    </tr>\n",
       "    <tr>\n",
       "      <th>26913</th>\n",
       "      <td>M996679486</td>\n",
       "      <td>8</td>\n",
       "    </tr>\n",
       "    <tr>\n",
       "      <th>26914</th>\n",
       "      <td>M997482914</td>\n",
       "      <td>8</td>\n",
       "    </tr>\n",
       "    <tr>\n",
       "      <th>26915</th>\n",
       "      <td>M999340261</td>\n",
       "      <td>8</td>\n",
       "    </tr>\n",
       "    <tr>\n",
       "      <th>26916</th>\n",
       "      <td>M999492154</td>\n",
       "      <td>8</td>\n",
       "    </tr>\n",
       "  </tbody>\n",
       "</table>\n",
       "<p>26917 rows × 2 columns</p>\n",
       "</div>"
      ],
      "text/plain": [
       "             cust  cluster\n",
       "0      M001248380        0\n",
       "1      M006962764        0\n",
       "2      M008864908        0\n",
       "3      M014792007        0\n",
       "4      M021341630        0\n",
       "...           ...      ...\n",
       "26912  M996092967        8\n",
       "26913  M996679486        8\n",
       "26914  M997482914        8\n",
       "26915  M999340261        8\n",
       "26916  M999492154        8\n",
       "\n",
       "[26917 rows x 2 columns]"
      ]
     },
     "execution_count": 17,
     "metadata": {},
     "output_type": "execute_result"
    }
   ],
   "source": [
    "result[['cust', 'cluster']]"
   ]
  },
  {
   "cell_type": "code",
   "execution_count": 18,
   "id": "7726ef87",
   "metadata": {
    "ExecuteTime": {
     "end_time": "2022-08-02T11:29:34.318782Z",
     "start_time": "2022-08-02T11:29:34.306780Z"
    }
   },
   "outputs": [
    {
     "data": {
      "text/html": [
       "<div>\n",
       "<style scoped>\n",
       "    .dataframe tbody tr th:only-of-type {\n",
       "        vertical-align: middle;\n",
       "    }\n",
       "\n",
       "    .dataframe tbody tr th {\n",
       "        vertical-align: top;\n",
       "    }\n",
       "\n",
       "    .dataframe thead th {\n",
       "        text-align: right;\n",
       "    }\n",
       "</style>\n",
       "<table border=\"1\" class=\"dataframe\">\n",
       "  <thead>\n",
       "    <tr style=\"text-align: right;\">\n",
       "      <th></th>\n",
       "      <th>cust</th>\n",
       "      <th>ma_fem_dv</th>\n",
       "      <th>ages</th>\n",
       "      <th>zon_hlv</th>\n",
       "      <th>chnl_dv</th>\n",
       "      <th>rct_no</th>\n",
       "      <th>buy_am</th>\n",
       "      <th>cluster</th>\n",
       "    </tr>\n",
       "  </thead>\n",
       "  <tbody>\n",
       "    <tr>\n",
       "      <th>890</th>\n",
       "      <td>M000136117</td>\n",
       "      <td>여성</td>\n",
       "      <td>30대</td>\n",
       "      <td>Z11</td>\n",
       "      <td>0</td>\n",
       "      <td>70</td>\n",
       "      <td>27373630.0</td>\n",
       "      <td>3</td>\n",
       "    </tr>\n",
       "    <tr>\n",
       "      <th>891</th>\n",
       "      <td>M000494848</td>\n",
       "      <td>여성</td>\n",
       "      <td>30대</td>\n",
       "      <td>Z10</td>\n",
       "      <td>0</td>\n",
       "      <td>160</td>\n",
       "      <td>25624610.0</td>\n",
       "      <td>3</td>\n",
       "    </tr>\n",
       "    <tr>\n",
       "      <th>892</th>\n",
       "      <td>M000621637</td>\n",
       "      <td>여성</td>\n",
       "      <td>40대</td>\n",
       "      <td>Z11</td>\n",
       "      <td>0</td>\n",
       "      <td>137</td>\n",
       "      <td>16702330.0</td>\n",
       "      <td>3</td>\n",
       "    </tr>\n",
       "    <tr>\n",
       "      <th>893</th>\n",
       "      <td>M000986912</td>\n",
       "      <td>여성</td>\n",
       "      <td>30대</td>\n",
       "      <td>Z10</td>\n",
       "      <td>0</td>\n",
       "      <td>48</td>\n",
       "      <td>777430.0</td>\n",
       "      <td>3</td>\n",
       "    </tr>\n",
       "    <tr>\n",
       "      <th>894</th>\n",
       "      <td>M001332751</td>\n",
       "      <td>여성</td>\n",
       "      <td>30대</td>\n",
       "      <td>Z06</td>\n",
       "      <td>0</td>\n",
       "      <td>33</td>\n",
       "      <td>2814069.0</td>\n",
       "      <td>3</td>\n",
       "    </tr>\n",
       "    <tr>\n",
       "      <th>...</th>\n",
       "      <td>...</td>\n",
       "      <td>...</td>\n",
       "      <td>...</td>\n",
       "      <td>...</td>\n",
       "      <td>...</td>\n",
       "      <td>...</td>\n",
       "      <td>...</td>\n",
       "      <td>...</td>\n",
       "    </tr>\n",
       "    <tr>\n",
       "      <th>9461</th>\n",
       "      <td>M975506549</td>\n",
       "      <td>남성</td>\n",
       "      <td>30대</td>\n",
       "      <td>Z17</td>\n",
       "      <td>0</td>\n",
       "      <td>2</td>\n",
       "      <td>131900.0</td>\n",
       "      <td>5</td>\n",
       "    </tr>\n",
       "    <tr>\n",
       "      <th>9462</th>\n",
       "      <td>M983748971</td>\n",
       "      <td>여성</td>\n",
       "      <td>30대</td>\n",
       "      <td>Z10</td>\n",
       "      <td>0</td>\n",
       "      <td>3</td>\n",
       "      <td>21900.0</td>\n",
       "      <td>5</td>\n",
       "    </tr>\n",
       "    <tr>\n",
       "      <th>9463</th>\n",
       "      <td>M986339107</td>\n",
       "      <td>여성</td>\n",
       "      <td>30대</td>\n",
       "      <td>Z10</td>\n",
       "      <td>0</td>\n",
       "      <td>2</td>\n",
       "      <td>1066000.0</td>\n",
       "      <td>5</td>\n",
       "    </tr>\n",
       "    <tr>\n",
       "      <th>9464</th>\n",
       "      <td>M987624864</td>\n",
       "      <td>남성</td>\n",
       "      <td>30대</td>\n",
       "      <td>Z14</td>\n",
       "      <td>0</td>\n",
       "      <td>2</td>\n",
       "      <td>62080.0</td>\n",
       "      <td>5</td>\n",
       "    </tr>\n",
       "    <tr>\n",
       "      <th>9465</th>\n",
       "      <td>M988682724</td>\n",
       "      <td>남성</td>\n",
       "      <td>40대</td>\n",
       "      <td>Z10</td>\n",
       "      <td>0</td>\n",
       "      <td>3</td>\n",
       "      <td>117340.0</td>\n",
       "      <td>5</td>\n",
       "    </tr>\n",
       "  </tbody>\n",
       "</table>\n",
       "<p>8576 rows × 8 columns</p>\n",
       "</div>"
      ],
      "text/plain": [
       "            cust ma_fem_dv ages zon_hlv  chnl_dv  rct_no      buy_am  cluster\n",
       "890   M000136117        여성  30대     Z11        0      70  27373630.0        3\n",
       "891   M000494848        여성  30대     Z10        0     160  25624610.0        3\n",
       "892   M000621637        여성  40대     Z11        0     137  16702330.0        3\n",
       "893   M000986912        여성  30대     Z10        0      48    777430.0        3\n",
       "894   M001332751        여성  30대     Z06        0      33   2814069.0        3\n",
       "...          ...       ...  ...     ...      ...     ...         ...      ...\n",
       "9461  M975506549        남성  30대     Z17        0       2    131900.0        5\n",
       "9462  M983748971        여성  30대     Z10        0       3     21900.0        5\n",
       "9463  M986339107        여성  30대     Z10        0       2   1066000.0        5\n",
       "9464  M987624864        남성  30대     Z14        0       2     62080.0        5\n",
       "9465  M988682724        남성  40대     Z10        0       3    117340.0        5\n",
       "\n",
       "[8576 rows x 8 columns]"
      ]
     },
     "execution_count": 18,
     "metadata": {},
     "output_type": "execute_result"
    }
   ],
   "source": [
    "result[result[\"chnl_dv\"]==0] # 온오프"
   ]
  },
  {
   "cell_type": "markdown",
   "id": "e6e5a334",
   "metadata": {},
   "source": [
    "# Visualization\n",
    "---"
   ]
  },
  {
   "cell_type": "markdown",
   "id": "2ded6224",
   "metadata": {},
   "source": [
    "## on-line / off-line / on&off-line"
   ]
  },
  {
   "cell_type": "code",
   "execution_count": 19,
   "id": "9c95595e",
   "metadata": {
    "ExecuteTime": {
     "end_time": "2022-08-02T11:29:34.900493Z",
     "start_time": "2022-08-02T11:29:34.892499Z"
    }
   },
   "outputs": [],
   "source": [
    "result_onoff = result[result[\"chnl_dv\"]==0] #온오프\n",
    "result_off = result[result[\"chnl_dv\"]==1] #오프\n",
    "result_on = result[result[\"chnl_dv\"]==2] #온"
   ]
  },
  {
   "cell_type": "markdown",
   "id": "c3bb4563",
   "metadata": {},
   "source": [
    "온라인, 오프라인, 온라인_오프라인을 구분하는 이유"
   ]
  },
  {
   "cell_type": "code",
   "execution_count": 20,
   "id": "1280db29",
   "metadata": {
    "ExecuteTime": {
     "end_time": "2022-08-02T11:29:36.578914Z",
     "start_time": "2022-08-02T11:29:35.623064Z"
    }
   },
   "outputs": [
    {
     "data": {
      "image/png": "[encoded data removed]",
      "text/plain": [
       "<Figure size 1152x648 with 1 Axes>"
      ]
     },
     "metadata": {},
     "output_type": "display_data"
    }
   ],
   "source": [
    "sns.histplot(result_onoff['buy_am'], log_scale=True, kde=True, color='red', alpha=0.5, stat='probability', label=\"on/off line\")\n",
    "sns.histplot(result_on['buy_am'], log_scale=True, kde=True, color='green', alpha=0.5, stat='probability', label=\"online\")\n",
    "sns.histplot(result_off['buy_am'], log_scale=True, kde=True, color='blue', alpha=0.5, stat='probability', label=\"offline\")\n",
    "plt.legend()\n",
    "plt.show()"
   ]
  },
  {
   "cell_type": "code",
   "execution_count": 21,
   "id": "1ee1163c",
   "metadata": {
    "ExecuteTime": {
     "end_time": "2022-08-02T11:29:36.814556Z",
     "start_time": "2022-08-02T11:29:36.737454Z"
    }
   },
   "outputs": [
    {
     "data": {
      "text/plain": [
       "KstestResult(statistic=0.6291340872882777, pvalue=6.167615603962031e-306)"
      ]
     },
     "execution_count": 21,
     "metadata": {},
     "output_type": "execute_result"
    }
   ],
   "source": [
    "from scipy.stats import kstest\n",
    "import numpy as np\n",
    "\n",
    "test_stat = kstest(result_onoff['buy_am'], result_on['buy_am'])\n",
    "test_stat"
   ]
  },
  {
   "cell_type": "code",
   "execution_count": 22,
   "id": "b3b9e92e",
   "metadata": {
    "ExecuteTime": {
     "end_time": "2022-08-02T11:29:36.986607Z",
     "start_time": "2022-08-02T11:29:36.972600Z"
    }
   },
   "outputs": [
    {
     "data": {
      "text/plain": [
       "KstestResult(statistic=0.423255355766612, pvalue=3.9097989861462917e-138)"
      ]
     },
     "execution_count": 22,
     "metadata": {},
     "output_type": "execute_result"
    }
   ],
   "source": [
    "test_stat = kstest(result_off['buy_am'], result_on['buy_am'])\n",
    "test_stat"
   ]
  },
  {
   "cell_type": "code",
   "execution_count": 23,
   "id": "1ffdf220",
   "metadata": {
    "ExecuteTime": {
     "end_time": "2022-08-02T11:29:37.160726Z",
     "start_time": "2022-08-02T11:29:37.146662Z"
    }
   },
   "outputs": [
    {
     "data": {
      "text/plain": [
       "KstestResult(statistic=0.24175128392548173, pvalue=2.7346970524272835e-296)"
      ]
     },
     "execution_count": 23,
     "metadata": {},
     "output_type": "execute_result"
    }
   ],
   "source": [
    "test_stat = kstest(result_onoff['buy_am'], result_off['buy_am'])\n",
    "test_stat"
   ]
  },
  {
   "cell_type": "markdown",
   "id": "d9f7dd2e",
   "metadata": {},
   "source": [
    "총 금액 사용량 ks test p-value가 0에 가까운 값이다. 즉 온라인, 오프라인, 온+오프라인인 경우 전부 다른 분포를 가진다고 할 수 있다. 그래프에서 확인 가능하다."
   ]
  },
  {
   "cell_type": "markdown",
   "id": "ed46625a",
   "metadata": {},
   "source": [
    "## loyal / unloyal"
   ]
  },
  {
   "cell_type": "markdown",
   "id": "94575010",
   "metadata": {},
   "source": [
    "충성 고객, 비충성 고객 3을 기준으로 나누는 이유"
   ]
  },
  {
   "cell_type": "code",
   "execution_count": 24,
   "id": "1723e42a",
   "metadata": {
    "ExecuteTime": {
     "end_time": "2022-08-02T11:29:37.831720Z",
     "start_time": "2022-08-02T11:29:37.825621Z"
    }
   },
   "outputs": [],
   "source": [
    "result_royal = result[result[\"rct_no\"]>3] #충성\n",
    "result_unroyal = result[result[\"rct_no\"]<=3] #비충성"
   ]
  },
  {
   "cell_type": "code",
   "execution_count": 25,
   "id": "44e4748e",
   "metadata": {
    "ExecuteTime": {
     "end_time": "2022-08-02T11:35:48.051214Z",
     "start_time": "2022-08-02T11:35:47.390832Z"
    }
   },
   "outputs": [
    {
     "data": {
      "image/png": "[encoded data removed]",
      "text/plain": [
       "<Figure size 1152x648 with 1 Axes>"
      ]
     },
     "metadata": {},
     "output_type": "display_data"
    }
   ],
   "source": [
    "sns.histplot(result_royal['buy_am'], log_scale=True, kde=True, color='red', alpha=0.5, stat='probability', label=\"royal\")\n",
    "sns.histplot(result_unroyal['buy_am'], log_scale=True, kde=True, color='green', alpha=0.5, stat='probability', label=\"unroyal\")\n",
    "plt.legend()\n",
    "plt.show()"
   ]
  },
  {
   "cell_type": "code",
   "execution_count": 26,
   "id": "091a48ea",
   "metadata": {
    "ExecuteTime": {
     "end_time": "2022-08-02T11:29:38.896621Z",
     "start_time": "2022-08-02T11:29:38.881526Z"
    }
   },
   "outputs": [
    {
     "data": {
      "text/plain": [
       "KstestResult(statistic=0.7651845793384544, pvalue=0.0)"
      ]
     },
     "execution_count": 26,
     "metadata": {},
     "output_type": "execute_result"
    }
   ],
   "source": [
    "test_stat = kstest(result_royal['buy_am'], result_unroyal['buy_am'])\n",
    "test_stat"
   ]
  },
  {
   "cell_type": "markdown",
   "id": "13096255",
   "metadata": {},
   "source": [
    "충성 고객을 주로 구매횟수 3회를 기준으로 나눈다. (Domain지식), 총 금액 사용량 ks test 결과 다른 분포이다."
   ]
  },
  {
   "cell_type": "markdown",
   "id": "6c986ce6",
   "metadata": {},
   "source": [
    "## vip / unvip"
   ]
  },
  {
   "cell_type": "markdown",
   "id": "a6746da8",
   "metadata": {},
   "source": [
    "vip를 200,000을 기준으로 나누는 이유 (충성, 비충성 고객 분류보다 조금 더 구체화 하기 위해서)"
   ]
  },
  {
   "cell_type": "code",
   "execution_count": 27,
   "id": "cdadadf6",
   "metadata": {
    "ExecuteTime": {
     "end_time": "2022-08-02T11:29:39.601104Z",
     "start_time": "2022-08-02T11:29:39.589088Z"
    }
   },
   "outputs": [],
   "source": [
    "result_vip = result[result[\"buy_am\"]>200000] #vip\n",
    "result_unvip = result[result[\"buy_am\"]<=200000] #unvip"
   ]
  },
  {
   "cell_type": "code",
   "execution_count": 28,
   "id": "28e5a1c9",
   "metadata": {
    "ExecuteTime": {
     "end_time": "2022-08-02T11:36:11.721514Z",
     "start_time": "2022-08-02T11:36:11.173793Z"
    }
   },
   "outputs": [
    {
     "data": {
      "image/png": "[encoded data removed]",
      "text/plain": [
       "<Figure size 1152x648 with 1 Axes>"
      ]
     },
     "metadata": {},
     "output_type": "display_data"
    }
   ],
   "source": [
    "sns.histplot(result_vip['rct_no'], log_scale=True, kde=True, color='red', alpha=0.5, stat='probability', label=\"vip\")\n",
    "sns.histplot(result_unvip['rct_no'], log_scale=True, kde=True, color='green', alpha=0.5, stat='probability', label=\"unvip\")\n",
    "plt.legend()\n",
    "plt.show()"
   ]
  },
  {
   "cell_type": "code",
   "execution_count": 29,
   "id": "27c7a29f",
   "metadata": {
    "ExecuteTime": {
     "end_time": "2022-08-02T11:29:40.657510Z",
     "start_time": "2022-08-02T11:29:40.642534Z"
    }
   },
   "outputs": [
    {
     "data": {
      "text/plain": [
       "KstestResult(statistic=0.777633306491582, pvalue=0.0)"
      ]
     },
     "execution_count": 29,
     "metadata": {},
     "output_type": "execute_result"
    }
   ],
   "source": [
    "test_stat = kstest(result_vip['rct_no'], result_unvip['rct_no'])\n",
    "test_stat"
   ]
  },
  {
   "cell_type": "markdown",
   "id": "220cd664",
   "metadata": {},
   "source": [
    "**클러스터 해석**\n",
    "\n",
    "0. 온라인만 사용하는 충성&vip 고객 \n",
    "1. 온라인만 사용하는 충성&unvip 고객\n",
    "2. 온라인만 사용하는 비충성 고객\n",
    "\n",
    "\n",
    "3. 온라인, 오프라인 모두 사용하는 충성&vip 고객 \n",
    "4. 온라인, 오프라인 모두 사용하는 충성&unvip 고객\n",
    "5. 온라인, 오프라인 모두 사용하는 비충성 고객\n",
    "\n",
    "\n",
    "6. 오프라인만 사용하는 충성&vip 고객 \n",
    "7. 오프라인만 사용하는 충성&unvip 고객\n",
    "8. 오프라인만 사용하는 비충성 고객"
   ]
  },
  {
   "cell_type": "code",
   "execution_count": 30,
   "id": "c559ee53",
   "metadata": {
    "ExecuteTime": {
     "end_time": "2022-08-02T11:44:39.652288Z",
     "start_time": "2022-08-02T11:44:39.645285Z"
    }
   },
   "outputs": [
    {
     "data": {
      "text/plain": [
       "6    13847\n",
       "3     8239\n",
       "8     2434\n",
       "7     1170\n",
       "2      574\n",
       "0      287\n",
       "5      185\n",
       "4      152\n",
       "1       29\n",
       "Name: cluster, dtype: int64"
      ]
     },
     "execution_count": 30,
     "metadata": {},
     "output_type": "execute_result"
    }
   ],
   "source": [
    "result['cluster'].value_counts()"
   ]
  },
  {
   "cell_type": "code",
   "execution_count": 31,
   "id": "034676a6",
   "metadata": {},
   "outputs": [
    {
     "data": {
      "text/html": [
       "<div>\n",
       "<style scoped>\n",
       "    .dataframe tbody tr th:only-of-type {\n",
       "        vertical-align: middle;\n",
       "    }\n",
       "\n",
       "    .dataframe tbody tr th {\n",
       "        vertical-align: top;\n",
       "    }\n",
       "\n",
       "    .dataframe thead th {\n",
       "        text-align: right;\n",
       "    }\n",
       "</style>\n",
       "<table border=\"1\" class=\"dataframe\">\n",
       "  <thead>\n",
       "    <tr style=\"text-align: right;\">\n",
       "      <th></th>\n",
       "      <th>cust</th>\n",
       "      <th>ma_fem_dv</th>\n",
       "      <th>ages</th>\n",
       "      <th>zon_hlv</th>\n",
       "      <th>chnl_dv</th>\n",
       "      <th>rct_no</th>\n",
       "      <th>buy_am</th>\n",
       "      <th>cluster</th>\n",
       "    </tr>\n",
       "  </thead>\n",
       "  <tbody>\n",
       "    <tr>\n",
       "      <th>0</th>\n",
       "      <td>M001248380</td>\n",
       "      <td>여성</td>\n",
       "      <td>30대</td>\n",
       "      <td>Z10</td>\n",
       "      <td>2</td>\n",
       "      <td>38</td>\n",
       "      <td>992100.0</td>\n",
       "      <td>0</td>\n",
       "    </tr>\n",
       "    <tr>\n",
       "      <th>1</th>\n",
       "      <td>M006962764</td>\n",
       "      <td>남성</td>\n",
       "      <td>30대</td>\n",
       "      <td>Z17</td>\n",
       "      <td>2</td>\n",
       "      <td>35</td>\n",
       "      <td>1085730.0</td>\n",
       "      <td>0</td>\n",
       "    </tr>\n",
       "    <tr>\n",
       "      <th>2</th>\n",
       "      <td>M008864908</td>\n",
       "      <td>남성</td>\n",
       "      <td>30대</td>\n",
       "      <td>Z04</td>\n",
       "      <td>2</td>\n",
       "      <td>22</td>\n",
       "      <td>968700.0</td>\n",
       "      <td>0</td>\n",
       "    </tr>\n",
       "    <tr>\n",
       "      <th>3</th>\n",
       "      <td>M014792007</td>\n",
       "      <td>여성</td>\n",
       "      <td>30대</td>\n",
       "      <td>Z13</td>\n",
       "      <td>2</td>\n",
       "      <td>4</td>\n",
       "      <td>735200.0</td>\n",
       "      <td>0</td>\n",
       "    </tr>\n",
       "    <tr>\n",
       "      <th>4</th>\n",
       "      <td>M021341630</td>\n",
       "      <td>여성</td>\n",
       "      <td>40대</td>\n",
       "      <td>Z07</td>\n",
       "      <td>2</td>\n",
       "      <td>23</td>\n",
       "      <td>2718870.0</td>\n",
       "      <td>0</td>\n",
       "    </tr>\n",
       "  </tbody>\n",
       "</table>\n",
       "</div>"
      ],
      "text/plain": [
       "         cust ma_fem_dv ages zon_hlv  chnl_dv  rct_no     buy_am  cluster\n",
       "0  M001248380        여성  30대     Z10        2      38   992100.0        0\n",
       "1  M006962764        남성  30대     Z17        2      35  1085730.0        0\n",
       "2  M008864908        남성  30대     Z04        2      22   968700.0        0\n",
       "3  M014792007        여성  30대     Z13        2       4   735200.0        0\n",
       "4  M021341630        여성  40대     Z07        2      23  2718870.0        0"
      ]
     },
     "execution_count": 31,
     "metadata": {},
     "output_type": "execute_result"
    }
   ],
   "source": [
    "result.head()"
   ]
  },
  {
   "cell_type": "code",
   "execution_count": 33,
   "id": "60abaa8c",
   "metadata": {},
   "outputs": [
    {
     "data": {
      "text/html": [
       "<div>\n",
       "<style scoped>\n",
       "    .dataframe tbody tr th:only-of-type {\n",
       "        vertical-align: middle;\n",
       "    }\n",
       "\n",
       "    .dataframe tbody tr th {\n",
       "        vertical-align: top;\n",
       "    }\n",
       "\n",
       "    .dataframe thead th {\n",
       "        text-align: right;\n",
       "    }\n",
       "</style>\n",
       "<table border=\"1\" class=\"dataframe\">\n",
       "  <thead>\n",
       "    <tr style=\"text-align: right;\">\n",
       "      <th></th>\n",
       "      <th>cust</th>\n",
       "      <th>ma_fem_dv</th>\n",
       "      <th>ages</th>\n",
       "      <th>zon_hlv</th>\n",
       "      <th>chnl_dv</th>\n",
       "      <th>rct_no</th>\n",
       "      <th>buy_am</th>\n",
       "      <th>cluster</th>\n",
       "    </tr>\n",
       "  </thead>\n",
       "  <tbody>\n",
       "    <tr>\n",
       "      <th>287</th>\n",
       "      <td>M023543251</td>\n",
       "      <td>여성</td>\n",
       "      <td>20대</td>\n",
       "      <td>Z16</td>\n",
       "      <td>2</td>\n",
       "      <td>6</td>\n",
       "      <td>105480.0</td>\n",
       "      <td>1</td>\n",
       "    </tr>\n",
       "    <tr>\n",
       "      <th>288</th>\n",
       "      <td>M063059486</td>\n",
       "      <td>남성</td>\n",
       "      <td>50대</td>\n",
       "      <td>Z04</td>\n",
       "      <td>2</td>\n",
       "      <td>4</td>\n",
       "      <td>55120.0</td>\n",
       "      <td>1</td>\n",
       "    </tr>\n",
       "    <tr>\n",
       "      <th>289</th>\n",
       "      <td>M114374841</td>\n",
       "      <td>여성</td>\n",
       "      <td>30대</td>\n",
       "      <td>Z10</td>\n",
       "      <td>2</td>\n",
       "      <td>4</td>\n",
       "      <td>158290.0</td>\n",
       "      <td>1</td>\n",
       "    </tr>\n",
       "    <tr>\n",
       "      <th>290</th>\n",
       "      <td>M120247124</td>\n",
       "      <td>남성</td>\n",
       "      <td>30대</td>\n",
       "      <td>Z17</td>\n",
       "      <td>2</td>\n",
       "      <td>20</td>\n",
       "      <td>197080.0</td>\n",
       "      <td>1</td>\n",
       "    </tr>\n",
       "    <tr>\n",
       "      <th>291</th>\n",
       "      <td>M156591412</td>\n",
       "      <td>남성</td>\n",
       "      <td>20대</td>\n",
       "      <td>Z11</td>\n",
       "      <td>2</td>\n",
       "      <td>4</td>\n",
       "      <td>154900.0</td>\n",
       "      <td>1</td>\n",
       "    </tr>\n",
       "    <tr>\n",
       "      <th>...</th>\n",
       "      <td>...</td>\n",
       "      <td>...</td>\n",
       "      <td>...</td>\n",
       "      <td>...</td>\n",
       "      <td>...</td>\n",
       "      <td>...</td>\n",
       "      <td>...</td>\n",
       "      <td>...</td>\n",
       "    </tr>\n",
       "    <tr>\n",
       "      <th>311</th>\n",
       "      <td>M867637042</td>\n",
       "      <td>남성</td>\n",
       "      <td>30대</td>\n",
       "      <td>Z10</td>\n",
       "      <td>2</td>\n",
       "      <td>5</td>\n",
       "      <td>153300.0</td>\n",
       "      <td>1</td>\n",
       "    </tr>\n",
       "    <tr>\n",
       "      <th>312</th>\n",
       "      <td>M873044482</td>\n",
       "      <td>여성</td>\n",
       "      <td>30대</td>\n",
       "      <td>Z11</td>\n",
       "      <td>2</td>\n",
       "      <td>5</td>\n",
       "      <td>178194.0</td>\n",
       "      <td>1</td>\n",
       "    </tr>\n",
       "    <tr>\n",
       "      <th>313</th>\n",
       "      <td>M912616576</td>\n",
       "      <td>남성</td>\n",
       "      <td>30대</td>\n",
       "      <td>Z17</td>\n",
       "      <td>2</td>\n",
       "      <td>4</td>\n",
       "      <td>156160.0</td>\n",
       "      <td>1</td>\n",
       "    </tr>\n",
       "    <tr>\n",
       "      <th>314</th>\n",
       "      <td>M935051519</td>\n",
       "      <td>여성</td>\n",
       "      <td>50대</td>\n",
       "      <td>Z12</td>\n",
       "      <td>2</td>\n",
       "      <td>17</td>\n",
       "      <td>43400.0</td>\n",
       "      <td>1</td>\n",
       "    </tr>\n",
       "    <tr>\n",
       "      <th>315</th>\n",
       "      <td>M988292446</td>\n",
       "      <td>남성</td>\n",
       "      <td>30대</td>\n",
       "      <td>Z16</td>\n",
       "      <td>2</td>\n",
       "      <td>5</td>\n",
       "      <td>77300.0</td>\n",
       "      <td>1</td>\n",
       "    </tr>\n",
       "  </tbody>\n",
       "</table>\n",
       "<p>29 rows × 8 columns</p>\n",
       "</div>"
      ],
      "text/plain": [
       "           cust ma_fem_dv ages zon_hlv  chnl_dv  rct_no    buy_am  cluster\n",
       "287  M023543251        여성  20대     Z16        2       6  105480.0        1\n",
       "288  M063059486        남성  50대     Z04        2       4   55120.0        1\n",
       "289  M114374841        여성  30대     Z10        2       4  158290.0        1\n",
       "290  M120247124        남성  30대     Z17        2      20  197080.0        1\n",
       "291  M156591412        남성  20대     Z11        2       4  154900.0        1\n",
       "..          ...       ...  ...     ...      ...     ...       ...      ...\n",
       "311  M867637042        남성  30대     Z10        2       5  153300.0        1\n",
       "312  M873044482        여성  30대     Z11        2       5  178194.0        1\n",
       "313  M912616576        남성  30대     Z17        2       4  156160.0        1\n",
       "314  M935051519        여성  50대     Z12        2      17   43400.0        1\n",
       "315  M988292446        남성  30대     Z16        2       5   77300.0        1\n",
       "\n",
       "[29 rows x 8 columns]"
      ]
     },
     "execution_count": 33,
     "metadata": {},
     "output_type": "execute_result"
    }
   ],
   "source": [
    "# 1 Cluster : 온라인만 사용하는 충성&unvip 고객\n",
    "result.loc[result[\"cluster\"]==1]"
   ]
  },
  {
   "cell_type": "code",
   "execution_count": 35,
   "id": "276f22d0",
   "metadata": {},
   "outputs": [
    {
     "data": {
      "text/html": [
       "<div>\n",
       "<style scoped>\n",
       "    .dataframe tbody tr th:only-of-type {\n",
       "        vertical-align: middle;\n",
       "    }\n",
       "\n",
       "    .dataframe tbody tr th {\n",
       "        vertical-align: top;\n",
       "    }\n",
       "\n",
       "    .dataframe thead th {\n",
       "        text-align: right;\n",
       "    }\n",
       "</style>\n",
       "<table border=\"1\" class=\"dataframe\">\n",
       "  <thead>\n",
       "    <tr style=\"text-align: right;\">\n",
       "      <th></th>\n",
       "      <th>cust</th>\n",
       "      <th>ma_fem_dv</th>\n",
       "      <th>ages</th>\n",
       "      <th>zon_hlv</th>\n",
       "      <th>chnl_dv</th>\n",
       "      <th>rct_no</th>\n",
       "      <th>buy_am</th>\n",
       "      <th>cluster</th>\n",
       "    </tr>\n",
       "  </thead>\n",
       "  <tbody>\n",
       "    <tr>\n",
       "      <th>9466</th>\n",
       "      <td>M000034966</td>\n",
       "      <td>여성</td>\n",
       "      <td>40대</td>\n",
       "      <td>Z07</td>\n",
       "      <td>1</td>\n",
       "      <td>12</td>\n",
       "      <td>654120.0</td>\n",
       "      <td>6</td>\n",
       "    </tr>\n",
       "    <tr>\n",
       "      <th>9467</th>\n",
       "      <td>M000225114</td>\n",
       "      <td>여성</td>\n",
       "      <td>40대</td>\n",
       "      <td>Z17</td>\n",
       "      <td>1</td>\n",
       "      <td>78</td>\n",
       "      <td>1937700.0</td>\n",
       "      <td>6</td>\n",
       "    </tr>\n",
       "    <tr>\n",
       "      <th>9468</th>\n",
       "      <td>M000261625</td>\n",
       "      <td>여성</td>\n",
       "      <td>40대</td>\n",
       "      <td>Z17</td>\n",
       "      <td>1</td>\n",
       "      <td>48</td>\n",
       "      <td>6052700.0</td>\n",
       "      <td>6</td>\n",
       "    </tr>\n",
       "    <tr>\n",
       "      <th>9469</th>\n",
       "      <td>M000350564</td>\n",
       "      <td>여성</td>\n",
       "      <td>60대</td>\n",
       "      <td>Z10</td>\n",
       "      <td>1</td>\n",
       "      <td>29</td>\n",
       "      <td>9630400.0</td>\n",
       "      <td>6</td>\n",
       "    </tr>\n",
       "    <tr>\n",
       "      <th>9470</th>\n",
       "      <td>M000419293</td>\n",
       "      <td>여성</td>\n",
       "      <td>40대</td>\n",
       "      <td>Z17</td>\n",
       "      <td>1</td>\n",
       "      <td>39</td>\n",
       "      <td>1833500.0</td>\n",
       "      <td>6</td>\n",
       "    </tr>\n",
       "    <tr>\n",
       "      <th>...</th>\n",
       "      <td>...</td>\n",
       "      <td>...</td>\n",
       "      <td>...</td>\n",
       "      <td>...</td>\n",
       "      <td>...</td>\n",
       "      <td>...</td>\n",
       "      <td>...</td>\n",
       "      <td>...</td>\n",
       "    </tr>\n",
       "    <tr>\n",
       "      <th>23308</th>\n",
       "      <td>M999441814</td>\n",
       "      <td>여성</td>\n",
       "      <td>50대</td>\n",
       "      <td>Z08</td>\n",
       "      <td>1</td>\n",
       "      <td>5</td>\n",
       "      <td>282200.0</td>\n",
       "      <td>6</td>\n",
       "    </tr>\n",
       "    <tr>\n",
       "      <th>23309</th>\n",
       "      <td>M999468256</td>\n",
       "      <td>여성</td>\n",
       "      <td>70대</td>\n",
       "      <td>Z06</td>\n",
       "      <td>1</td>\n",
       "      <td>19</td>\n",
       "      <td>438960.0</td>\n",
       "      <td>6</td>\n",
       "    </tr>\n",
       "    <tr>\n",
       "      <th>23310</th>\n",
       "      <td>M999515910</td>\n",
       "      <td>남성</td>\n",
       "      <td>40대</td>\n",
       "      <td>Z05</td>\n",
       "      <td>1</td>\n",
       "      <td>33</td>\n",
       "      <td>7119795.0</td>\n",
       "      <td>6</td>\n",
       "    </tr>\n",
       "    <tr>\n",
       "      <th>23311</th>\n",
       "      <td>M999673157</td>\n",
       "      <td>남성</td>\n",
       "      <td>30대</td>\n",
       "      <td>Z10</td>\n",
       "      <td>1</td>\n",
       "      <td>17</td>\n",
       "      <td>2851370.0</td>\n",
       "      <td>6</td>\n",
       "    </tr>\n",
       "    <tr>\n",
       "      <th>23312</th>\n",
       "      <td>M999849895</td>\n",
       "      <td>여성</td>\n",
       "      <td>20대</td>\n",
       "      <td>Z04</td>\n",
       "      <td>1</td>\n",
       "      <td>34</td>\n",
       "      <td>1103792.0</td>\n",
       "      <td>6</td>\n",
       "    </tr>\n",
       "  </tbody>\n",
       "</table>\n",
       "<p>13847 rows × 8 columns</p>\n",
       "</div>"
      ],
      "text/plain": [
       "             cust ma_fem_dv ages zon_hlv  chnl_dv  rct_no     buy_am  cluster\n",
       "9466   M000034966        여성  40대     Z07        1      12   654120.0        6\n",
       "9467   M000225114        여성  40대     Z17        1      78  1937700.0        6\n",
       "9468   M000261625        여성  40대     Z17        1      48  6052700.0        6\n",
       "9469   M000350564        여성  60대     Z10        1      29  9630400.0        6\n",
       "9470   M000419293        여성  40대     Z17        1      39  1833500.0        6\n",
       "...           ...       ...  ...     ...      ...     ...        ...      ...\n",
       "23308  M999441814        여성  50대     Z08        1       5   282200.0        6\n",
       "23309  M999468256        여성  70대     Z06        1      19   438960.0        6\n",
       "23310  M999515910        남성  40대     Z05        1      33  7119795.0        6\n",
       "23311  M999673157        남성  30대     Z10        1      17  2851370.0        6\n",
       "23312  M999849895        여성  20대     Z04        1      34  1103792.0        6\n",
       "\n",
       "[13847 rows x 8 columns]"
      ]
     },
     "execution_count": 35,
     "metadata": {},
     "output_type": "execute_result"
    }
   ],
   "source": [
    "result.loc[result[\"cluster\"]==6]"
   ]
  },
  {
   "cell_type": "markdown",
   "id": "1b244f7c",
   "metadata": {},
   "source": [
    "# 적절한 파생변수란 무엇일까?\n",
    "---\n",
    "\n",
    "1. 고객의 특성을 가장 잘 나타내는 변수\n",
    "    - 성별, 나이, 지역, 온/오프라인, 영수증 개수, 구매 금액 등?\n",
    "    - 어떤 유통사에서 구매를 가장 많이 하는가?\n",
    "    - 유통사별 이용 비율\n",
    "    - 가장 많이 구매한 품목"
   ]
  },
  {
   "cell_type": "markdown",
   "id": "de814e97",
   "metadata": {},
   "source": [
    "## 1. On/Offline의 구분\n",
    "---"
   ]
  },
  {
   "cell_type": "code",
   "execution_count": 38,
   "id": "b9d2ed64",
   "metadata": {},
   "outputs": [
    {
     "data": {
      "image/png": "[encoded data removed]",
      "text/plain": [
       "<Figure size 1152x648 with 1 Axes>"
      ]
     },
     "metadata": {},
     "output_type": "display_data"
    }
   ],
   "source": [
    "sns.histplot(result_onoff['buy_am'], log_scale=True, kde=True, color='red', alpha=0.5, stat='probability', label=\"on/off-line\")\n",
    "sns.histplot(result_on['buy_am'], log_scale=True, kde=True, color='green', alpha=0.5, stat='probability', label=\"on-line\")\n",
    "sns.histplot(result_off['buy_am'], log_scale=True, kde=True, color='blue', alpha=0.5, stat='probability', label=\"off-line\")\n",
    "plt.legend()\n",
    "plt.show()"
   ]
  },
  {
   "cell_type": "code",
   "execution_count": 43,
   "id": "337dc21b",
   "metadata": {},
   "outputs": [
    {
     "name": "stdout",
     "output_type": "stream",
     "text": [
      "Ratio of ON-OFF : 0.445750927236878\n",
      "Ratio of OFF : 0.5487245111756761\n",
      "Ratio of ON : 0.005524561587445953\n"
     ]
    }
   ],
   "source": [
    "# -- 금액 비율\n",
    "total = sum(result_onoff['buy_am'].values.tolist() + result_off['buy_am'].values.tolist() + result_on['buy_am'].values.tolist())\n",
    "print(f\"Ratio of ON-OFF : {sum(result_onoff['buy_am'])/total}\")\n",
    "print(f\"Ratio of OFF : {result_off['buy_am'].sum()/total}\")\n",
    "print(f\"Ratio of ON : {result_on['buy_am'].sum()/total}\")"
   ]
  },
  {
   "cell_type": "code",
   "execution_count": 44,
   "id": "a654f039",
   "metadata": {},
   "outputs": [
    {
     "name": "stdout",
     "output_type": "stream",
     "text": [
      "Ratio of ON-OFF : 0.31860905747297247\n",
      "Ratio of OFF : 0.6483263365159565\n",
      "Ratio of ON : 0.03306460601107107\n"
     ]
    }
   ],
   "source": [
    "# -- 고객 비율\n",
    "total = result[\"cust\"].nunique()\n",
    "print(f\"Ratio of ON-OFF : {result_onoff['cust'].nunique()/total}\")\n",
    "print(f\"Ratio of OFF : {result_off['cust'].nunique()/total}\")\n",
    "print(f\"Ratio of ON : {result_on['cust'].nunique()/total}\")"
   ]
  },
  {
   "cell_type": "code",
   "execution_count": 47,
   "id": "19aae5ae",
   "metadata": {},
   "outputs": [
    {
     "data": {
      "text/plain": [
       "17451"
      ]
     },
     "execution_count": 47,
     "metadata": {},
     "output_type": "execute_result"
    }
   ],
   "source": [
    "result_off[\"cust\"].nunique()"
   ]
  },
  {
   "cell_type": "code",
   "execution_count": 54,
   "id": "0d255b63",
   "metadata": {},
   "outputs": [
    {
     "data": {
      "text/plain": [
       "<pandas.core.groupby.generic.SeriesGroupBy object at 0x0000021788929310>"
      ]
     },
     "execution_count": 54,
     "metadata": {},
     "output_type": "execute_result"
    }
   ],
   "source": [
    "df_onoff_cust = df_pdde.loc[df_pdde[\"cust\"].isin(result_onoff[\"cust\"].values.tolist())]\n"
   ]
  },
  {
   "cell_type": "code",
   "execution_count": 58,
   "id": "0125aae2",
   "metadata": {},
   "outputs": [
    {
     "data": {
      "text/html": [
       "<div>\n",
       "<style scoped>\n",
       "    .dataframe tbody tr th:only-of-type {\n",
       "        vertical-align: middle;\n",
       "    }\n",
       "\n",
       "    .dataframe tbody tr th {\n",
       "        vertical-align: top;\n",
       "    }\n",
       "\n",
       "    .dataframe thead th {\n",
       "        text-align: right;\n",
       "    }\n",
       "</style>\n",
       "<table border=\"1\" class=\"dataframe\">\n",
       "  <thead>\n",
       "    <tr style=\"text-align: right;\">\n",
       "      <th>chnl_dv</th>\n",
       "      <th>cust</th>\n",
       "      <th>1</th>\n",
       "      <th>2</th>\n",
       "      <th>sum_ch</th>\n",
       "      <th>ratio_off</th>\n",
       "      <th>ratio_on</th>\n",
       "    </tr>\n",
       "  </thead>\n",
       "  <tbody>\n",
       "    <tr>\n",
       "      <th>0</th>\n",
       "      <td>M000136117</td>\n",
       "      <td>96</td>\n",
       "      <td>13</td>\n",
       "      <td>109</td>\n",
       "      <td>0.880734</td>\n",
       "      <td>0.119266</td>\n",
       "    </tr>\n",
       "    <tr>\n",
       "      <th>1</th>\n",
       "      <td>M000494848</td>\n",
       "      <td>334</td>\n",
       "      <td>63</td>\n",
       "      <td>397</td>\n",
       "      <td>0.841310</td>\n",
       "      <td>0.158690</td>\n",
       "    </tr>\n",
       "    <tr>\n",
       "      <th>2</th>\n",
       "      <td>M000621637</td>\n",
       "      <td>170</td>\n",
       "      <td>21</td>\n",
       "      <td>191</td>\n",
       "      <td>0.890052</td>\n",
       "      <td>0.109948</td>\n",
       "    </tr>\n",
       "    <tr>\n",
       "      <th>3</th>\n",
       "      <td>M000986912</td>\n",
       "      <td>69</td>\n",
       "      <td>27</td>\n",
       "      <td>96</td>\n",
       "      <td>0.718750</td>\n",
       "      <td>0.281250</td>\n",
       "    </tr>\n",
       "    <tr>\n",
       "      <th>4</th>\n",
       "      <td>M001332751</td>\n",
       "      <td>398</td>\n",
       "      <td>1</td>\n",
       "      <td>399</td>\n",
       "      <td>0.997494</td>\n",
       "      <td>0.002506</td>\n",
       "    </tr>\n",
       "    <tr>\n",
       "      <th>...</th>\n",
       "      <td>...</td>\n",
       "      <td>...</td>\n",
       "      <td>...</td>\n",
       "      <td>...</td>\n",
       "      <td>...</td>\n",
       "      <td>...</td>\n",
       "    </tr>\n",
       "    <tr>\n",
       "      <th>8571</th>\n",
       "      <td>M999105944</td>\n",
       "      <td>27</td>\n",
       "      <td>2</td>\n",
       "      <td>29</td>\n",
       "      <td>0.931034</td>\n",
       "      <td>0.068966</td>\n",
       "    </tr>\n",
       "    <tr>\n",
       "      <th>8572</th>\n",
       "      <td>M999180761</td>\n",
       "      <td>44</td>\n",
       "      <td>1</td>\n",
       "      <td>45</td>\n",
       "      <td>0.977778</td>\n",
       "      <td>0.022222</td>\n",
       "    </tr>\n",
       "    <tr>\n",
       "      <th>8573</th>\n",
       "      <td>M999599111</td>\n",
       "      <td>32</td>\n",
       "      <td>2</td>\n",
       "      <td>34</td>\n",
       "      <td>0.941176</td>\n",
       "      <td>0.058824</td>\n",
       "    </tr>\n",
       "    <tr>\n",
       "      <th>8574</th>\n",
       "      <td>M999770689</td>\n",
       "      <td>298</td>\n",
       "      <td>17</td>\n",
       "      <td>315</td>\n",
       "      <td>0.946032</td>\n",
       "      <td>0.053968</td>\n",
       "    </tr>\n",
       "    <tr>\n",
       "      <th>8575</th>\n",
       "      <td>M999962961</td>\n",
       "      <td>315</td>\n",
       "      <td>16</td>\n",
       "      <td>331</td>\n",
       "      <td>0.951662</td>\n",
       "      <td>0.048338</td>\n",
       "    </tr>\n",
       "  </tbody>\n",
       "</table>\n",
       "<p>8576 rows × 6 columns</p>\n",
       "</div>"
      ],
      "text/plain": [
       "chnl_dv        cust    1   2  sum_ch  ratio_off  ratio_on\n",
       "0        M000136117   96  13     109   0.880734  0.119266\n",
       "1        M000494848  334  63     397   0.841310  0.158690\n",
       "2        M000621637  170  21     191   0.890052  0.109948\n",
       "3        M000986912   69  27      96   0.718750  0.281250\n",
       "4        M001332751  398   1     399   0.997494  0.002506\n",
       "...             ...  ...  ..     ...        ...       ...\n",
       "8571     M999105944   27   2      29   0.931034  0.068966\n",
       "8572     M999180761   44   1      45   0.977778  0.022222\n",
       "8573     M999599111   32   2      34   0.941176  0.058824\n",
       "8574     M999770689  298  17     315   0.946032  0.053968\n",
       "8575     M999962961  315  16     331   0.951662  0.048338\n",
       "\n",
       "[8576 rows x 6 columns]"
      ]
     },
     "execution_count": 58,
     "metadata": {},
     "output_type": "execute_result"
    }
   ],
   "source": [
    "df_onoff_pivot = pd.pivot_table(data = df_onoff_cust,\n",
    "               index=\"cust\",\n",
    "               columns=\"chnl_dv\",\n",
    "               values=\"rct_no\",\n",
    "               aggfunc=\"count\")\n",
    "df_onoff_pivot.reset_index(inplace=True)\n",
    "df_onoff_pivot[\"sum_ch\"] = df_onoff_pivot[1]+df_onoff_pivot[2]\n",
    "df_onoff_pivot[\"ratio_off\"] = df_onoff_pivot[1]/df_onoff_pivot[\"sum_ch\"]\n",
    "df_onoff_pivot[\"ratio_on\"] = df_onoff_pivot[2]/df_onoff_pivot[\"sum_ch\"]\n",
    "df_onoff_pivot"
   ]
  },
  {
   "cell_type": "code",
   "execution_count": 59,
   "id": "38be8ee9",
   "metadata": {},
   "outputs": [
    {
     "data": {
      "text/html": [
       "<div>\n",
       "<style scoped>\n",
       "    .dataframe tbody tr th:only-of-type {\n",
       "        vertical-align: middle;\n",
       "    }\n",
       "\n",
       "    .dataframe tbody tr th {\n",
       "        vertical-align: top;\n",
       "    }\n",
       "\n",
       "    .dataframe thead th {\n",
       "        text-align: right;\n",
       "    }\n",
       "</style>\n",
       "<table border=\"1\" class=\"dataframe\">\n",
       "  <thead>\n",
       "    <tr style=\"text-align: right;\">\n",
       "      <th>chnl_dv</th>\n",
       "      <th>1</th>\n",
       "      <th>2</th>\n",
       "      <th>sum_ch</th>\n",
       "      <th>ratio_off</th>\n",
       "      <th>ratio_on</th>\n",
       "    </tr>\n",
       "  </thead>\n",
       "  <tbody>\n",
       "    <tr>\n",
       "      <th>count</th>\n",
       "      <td>8576.000000</td>\n",
       "      <td>8576.000000</td>\n",
       "      <td>8576.000000</td>\n",
       "      <td>8576.000000</td>\n",
       "      <td>8576.000000</td>\n",
       "    </tr>\n",
       "    <tr>\n",
       "      <th>mean</th>\n",
       "      <td>183.091884</td>\n",
       "      <td>46.315065</td>\n",
       "      <td>229.406950</td>\n",
       "      <td>0.796903</td>\n",
       "      <td>0.203097</td>\n",
       "    </tr>\n",
       "    <tr>\n",
       "      <th>std</th>\n",
       "      <td>246.267315</td>\n",
       "      <td>102.291895</td>\n",
       "      <td>269.574151</td>\n",
       "      <td>0.260292</td>\n",
       "      <td>0.260292</td>\n",
       "    </tr>\n",
       "    <tr>\n",
       "      <th>min</th>\n",
       "      <td>1.000000</td>\n",
       "      <td>1.000000</td>\n",
       "      <td>2.000000</td>\n",
       "      <td>0.002755</td>\n",
       "      <td>0.000080</td>\n",
       "    </tr>\n",
       "    <tr>\n",
       "      <th>25%</th>\n",
       "      <td>44.000000</td>\n",
       "      <td>2.000000</td>\n",
       "      <td>64.000000</td>\n",
       "      <td>0.695471</td>\n",
       "      <td>0.018261</td>\n",
       "    </tr>\n",
       "    <tr>\n",
       "      <th>50%</th>\n",
       "      <td>110.000000</td>\n",
       "      <td>7.000000</td>\n",
       "      <td>148.000000</td>\n",
       "      <td>0.926606</td>\n",
       "      <td>0.073394</td>\n",
       "    </tr>\n",
       "    <tr>\n",
       "      <th>75%</th>\n",
       "      <td>244.000000</td>\n",
       "      <td>37.000000</td>\n",
       "      <td>313.000000</td>\n",
       "      <td>0.981739</td>\n",
       "      <td>0.304529</td>\n",
       "    </tr>\n",
       "    <tr>\n",
       "      <th>max</th>\n",
       "      <td>12447.000000</td>\n",
       "      <td>1748.000000</td>\n",
       "      <td>12448.000000</td>\n",
       "      <td>0.999920</td>\n",
       "      <td>0.997245</td>\n",
       "    </tr>\n",
       "  </tbody>\n",
       "</table>\n",
       "</div>"
      ],
      "text/plain": [
       "chnl_dv             1            2        sum_ch    ratio_off     ratio_on\n",
       "count     8576.000000  8576.000000   8576.000000  8576.000000  8576.000000\n",
       "mean       183.091884    46.315065    229.406950     0.796903     0.203097\n",
       "std        246.267315   102.291895    269.574151     0.260292     0.260292\n",
       "min          1.000000     1.000000      2.000000     0.002755     0.000080\n",
       "25%         44.000000     2.000000     64.000000     0.695471     0.018261\n",
       "50%        110.000000     7.000000    148.000000     0.926606     0.073394\n",
       "75%        244.000000    37.000000    313.000000     0.981739     0.304529\n",
       "max      12447.000000  1748.000000  12448.000000     0.999920     0.997245"
      ]
     },
     "execution_count": 59,
     "metadata": {},
     "output_type": "execute_result"
    }
   ],
   "source": [
    "df_onoff_pivot.describe()"
   ]
  },
  {
   "cell_type": "code",
   "execution_count": 61,
   "id": "51f3466b",
   "metadata": {},
   "outputs": [
    {
     "data": {
      "image/png": "[encoded data removed]",
      "text/plain": [
       "<Figure size 1152x648 with 1 Axes>"
      ]
     },
     "metadata": {},
     "output_type": "display_data"
    }
   ],
   "source": [
    "sns.histplot(df_onoff_pivot[\"ratio_off\"], alpha=.5, color=\"red\", kde=True, label=\"off_ratio\")\n",
    "#sns.histplot(df_onoff_pivot[\"ratio_on\"], alpha=.5, color='green', kde=True, label=\"on_rartio\")\n",
    "plt.legend()\n",
    "plt.show()"
   ]
  },
  {
   "cell_type": "markdown",
   "id": "a132ab59",
   "metadata": {},
   "source": [
    "- on-off 사용 중 on 비중이 큰 사람이 적음"
   ]
  },
  {
   "cell_type": "code",
   "execution_count": 62,
   "id": "30f085b6",
   "metadata": {},
   "outputs": [
    {
     "data": {
      "image/png": "[encoded data removed]",
      "text/plain": [
       "<Figure size 1152x648 with 1 Axes>"
      ]
     },
     "metadata": {},
     "output_type": "display_data"
    }
   ],
   "source": [
    "# sns.histplot(df_onoff_pivot[\"ratio_off\"], alpha=.5, color=\"red\", kde=True, label=\"off_ratio\")\n",
    "sns.histplot(df_onoff_pivot[\"ratio_on\"], alpha=.5, color='green', kde=True, label=\"on_rartio\")\n",
    "plt.legend()\n",
    "plt.show()"
   ]
  }
 ],
 "metadata": {
  "hide_input": false,
  "kernelspec": {
   "display_name": "Python 3.8.8 ('main')",
   "language": "python",
   "name": "python3"
  },
  "language_info": {
   "codemirror_mode": {
    "name": "ipython",
    "version": 3
   },
   "file_extension": ".py",
   "mimetype": "text/x-python",
   "name": "python",
   "nbconvert_exporter": "python",
   "pygments_lexer": "ipython3",
   "version": "3.8.8"
  },
  "toc": {
   "base_numbering": 1,
   "nav_menu": {},
   "number_sections": true,
   "sideBar": true,
   "skip_h1_title": false,
   "title_cell": "Table of Contents",
   "title_sidebar": "Contents",
   "toc_cell": false,
   "toc_position": {
    "height": "calc(100% - 180px)",
    "left": "10px",
    "top": "150px",
    "width": "165px"
   },
   "toc_section_display": true,
   "toc_window_display": true
  },
  "varInspector": {
   "cols": {
    "lenName": 16,
    "lenType": 16,
    "lenVar": 40
   },
   "kernels_config": {
    "python": {
     "delete_cmd_postfix": "",
     "delete_cmd_prefix": "del ",
     "library": "var_list.py",
     "varRefreshCmd": "print(var_dic_list())"
    },
    "r": {
     "delete_cmd_postfix": ") ",
     "delete_cmd_prefix": "rm(",
     "library": "var_list.r",
     "varRefreshCmd": "cat(var_dic_list()) "
    }
   },
   "types_to_exclude": [
    "module",
    "function",
    "builtin_function_or_method",
    "instance",
    "_Feature"
   ],
   "window_display": false
  },
  "vscode": {
   "interpreter": {
    "hash": "5418eef80854e52bdd31b62ac8e168a96471c21ff09caab6ca68827813545a18"
   }
  }
 },
 "nbformat": 4,
 "nbformat_minor": 5
}
